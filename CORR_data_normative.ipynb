{
 "cells": [
  {
   "cell_type": "code",
   "execution_count": 1,
   "metadata": {},
   "outputs": [],
   "source": [
    "# load packages\n",
    "import os\n",
    "import glob\n",
    "import pandas as pd\n",
    "import numpy as np\n",
    "import seaborn as sns\n",
    "import matplotlib.pyplot as plt\n",
    "import matplotlib\n",
    "import scipy.stats as ss\n",
    "\n",
    "ext_scripts_dir = ('/home/barbora/Documents/Projects/Normative_Models/ESO/braincharts/scripts')\n",
    "os.chdir(ext_scripts_dir)\n",
    "\n",
    "from nm_utils import remove_bad_subjects, load_2d\n",
    "\n",
    "code_dir = ('/home/barbora/Documents/Projects/Normative_Models/ESO/code')\n",
    "os.chdir(code_dir)\n",
    "\n",
    "# importing custom functions\n",
    "import clinics_desc_functions as custom\n",
    "\n",
    "sns.set(rc={'figure.facecolor':'white'})"
   ]
  },
  {
   "cell_type": "code",
   "execution_count": 2,
   "metadata": {},
   "outputs": [],
   "source": [
    "import prepare_models_for_analysis\n",
    "\n",
    "model_name, site_names, site_ids_tr, idp_ids = custom.pretrained_ini()\n",
    "\n",
    "# where things are\n",
    "main_dir = ('/home/barbora/Documents/Projects/Normative_Models/COINS')\n",
    "models_dir = ('/home/barbora/Documents/Projects/Normative_Models/COINS/models')\n",
    "os.makedirs(models_dir, exist_ok=True)\n",
    "fsdata_dir = ('/home/barbora/Documents/Projects/Normative_Models/COINS/backup')\n",
    "pretrained_dir = ('/home/barbora/Documents/Projects/Normative_Models/ESO/braincharts')\n",
    "images_dir = os.path.join(models_dir,'img')\n",
    "os.makedirs(images_dir, exist_ok=True)\n"
   ]
  },
  {
   "cell_type": "markdown",
   "metadata": {},
   "source": [
    "Load FS info\n",
    "-------------"
   ]
  },
  {
   "cell_type": "code",
   "execution_count": 166,
   "metadata": {},
   "outputs": [],
   "source": [
    "v1_fs = pd.read_csv(os.path.join(fsdata_dir,'fit_external_long_thickness_1.txt'), sep=';')\n",
    "v1_fs.index = [i.split('.')[-1][2:] for i in v1_fs['id']]\n",
    "v1_fs = v1_fs.drop(columns= 'id')\n",
    "v1_fs.sort_index(inplace=True)"
   ]
  },
  {
   "cell_type": "code",
   "execution_count": 167,
   "metadata": {},
   "outputs": [],
   "source": [
    "v2_fs = pd.read_csv(os.path.join(fsdata_dir,'fit_external_long_thickness_2.txt'), sep=';')\n",
    "v2_fs.index = [i.split('.')[-1][2:] for i in v2_fs['id']]\n",
    "v2_fs = v2_fs.drop(columns= 'id')\n",
    "v2_fs.sort_index(inplace=True)"
   ]
  },
  {
   "cell_type": "code",
   "execution_count": 168,
   "metadata": {},
   "outputs": [
    {
     "name": "stdout",
     "output_type": "stream",
     "text": [
      "Indicies acoss the two dataframes are in sync!\n"
     ]
    }
   ],
   "source": [
    "if sum(v1_fs.index == v2_fs.index) == v1_fs.shape[0]:\n",
    "    print('Indicies acoss the two dataframes are in sync!')"
   ]
  },
  {
   "cell_type": "markdown",
   "metadata": {},
   "source": [
    "Load clinics\n",
    "-----------"
   ]
  },
  {
   "cell_type": "code",
   "execution_count": 208,
   "metadata": {},
   "outputs": [],
   "source": [
    "corr_clin = pd.read_csv(os.path.join(fsdata_dir, 'CoRR_AggregatedPhenotypicData.csv'))\n",
    "pk = [str(i) for i in corr_clin['SUBID']]\n",
    "corr_clin.index = pk\n",
    "corr_clin.sort_index(inplace=True)"
   ]
  },
  {
   "cell_type": "code",
   "execution_count": 211,
   "metadata": {},
   "outputs": [],
   "source": [
    "# delete subjects that were not processed\n",
    "del_from_clin = list(set(corr_clin.index.unique()) - set(v1_fs.index))\n",
    "corr_clin = corr_clin.drop(index= del_from_clin)\n",
    "corr_clin = corr_clin[corr_clin['SESSION']=='Baseline']"
   ]
  },
  {
   "cell_type": "code",
   "execution_count": 212,
   "metadata": {},
   "outputs": [],
   "source": [
    "# delete from v1_fs, v2_fs\n",
    "del_from_fs = list(set(v1_fs.index) - set(corr_clin.index.unique()))\n",
    "v1_fs = v1_fs.drop(index = del_from_fs)\n",
    "v2_fs = v2_fs.drop(index = del_from_fs)"
   ]
  },
  {
   "cell_type": "markdown",
   "metadata": {},
   "source": [
    "**Run Normative models**\n",
    "-------------------------"
   ]
  },
  {
   "cell_type": "code",
   "execution_count": null,
   "metadata": {},
   "outputs": [],
   "source": []
  }
 ],
 "metadata": {
  "interpreter": {
   "hash": "3951f2f4cd92dfb9d3e6d0b790d47ccf8f4798183357503ed7e741f4d780229a"
  },
  "kernelspec": {
   "display_name": "Python 3.9.7 64-bit ('PCN': conda)",
   "language": "python",
   "name": "python3"
  },
  "language_info": {
   "codemirror_mode": {
    "name": "ipython",
    "version": 3
   },
   "file_extension": ".py",
   "mimetype": "text/x-python",
   "name": "python",
   "nbconvert_exporter": "python",
   "pygments_lexer": "ipython3",
   "version": "3.9.7"
  },
  "orig_nbformat": 4
 },
 "nbformat": 4,
 "nbformat_minor": 2
}
