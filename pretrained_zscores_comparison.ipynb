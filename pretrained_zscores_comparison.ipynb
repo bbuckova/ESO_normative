{
 "cells": [
  {
   "cell_type": "code",
   "execution_count": 1,
   "metadata": {},
   "outputs": [
    {
     "name": "stdout",
     "output_type": "stream",
     "text": [
      "Random seed 42 has been set.\n"
     ]
    }
   ],
   "source": [
    "# load packages\n",
    "import os\n",
    "import glob\n",
    "import pandas as pd\n",
    "import numpy as np\n",
    "import seaborn as sns\n",
    "import matplotlib.pyplot as plt\n",
    "import matplotlib\n",
    "import pcntoolkit as pcn\n",
    "import pickle\n",
    "\n",
    "from scipy.stats import shapiro\n",
    "\n",
    "from enigmatoolbox.utils.parcellation import parcel_to_surface\n",
    "from enigmatoolbox.plotting import plot_cortical, plot_subcortical\n",
    "from enigmatoolbox.utils.useful import reorder_sctx\n",
    "\n",
    "from pcntoolkit.normative import estimate, predict, evaluate\n",
    "from pcntoolkit.util.utils import compute_MSLL, create_design_matrix\n",
    "\n",
    "ext_scripts_dir = ('/home/barbora/Documents/Projects/Normative_Models/ESO/braincharts/scripts')\n",
    "os.chdir(ext_scripts_dir)\n",
    "\n",
    "from nm_utils import remove_bad_subjects, load_2d\n",
    "\n",
    "code_dir = ('/home/barbora/Documents/Projects/Normative_Models/ESO/code')\n",
    "os.chdir(code_dir)\n",
    "\n",
    "# importing custom functions\n",
    "import clinics_desc_functions as custom\n",
    "from clinics_desc_functions import prepare_data, plot_quality, trajectory_plotting, dk_roi_viz, load_clinics, en_qc, pretrained_adapt_small, set_seed\n",
    "\n",
    "# set seed\n",
    "set_seed()\n",
    "\n",
    "# formatiing\n",
    "%matplotlib inline\n",
    "%config InlineBackend.print_figure_kwargs = {'bbox_inches':None}\n"
   ]
  },
  {
   "cell_type": "code",
   "execution_count": 2,
   "metadata": {},
   "outputs": [],
   "source": [
    "# where things are\n",
    "main_dir = ('/home/barbora/Documents/Projects/Normative_Models/ESO')\n",
    "models_dir = ('/home/barbora/Documents/Projects/Normative_Models/ESO/models/zscores_comparison_long')\n",
    "os.makedirs(models_dir, exist_ok=True)\n",
    "controls_dir = ('/home/barbora/Documents/Projects/Normative_Models/ESO/models/control_stability_long')\n",
    "patients_dir = ('/home/barbora/Documents/Projects/Normative_Models/ESO/models/pretrained_long')\n",
    "cdata_dir = ('/home/barbora/Documents/Projects/2021_06_AZV_ESO/data')\n",
    "fsdata_dir = ('/home/barbora/Documents/Projects/Normative_Models/ESO/fs_stats')\n",
    "bdata_dir = ('/home/barbora/Documents/Projects/Normative_Models/ESO/backup/fit_external_long')\n",
    "images_dir = os.path.join(models_dir,'img')\n",
    "os.makedirs(images_dir, exist_ok=True)\n",
    "pretrained_dir = ('/home/barbora/Documents/Projects/Normative_Models/ESO/braincharts')"
   ]
  },
  {
   "cell_type": "code",
   "execution_count": 3,
   "metadata": {},
   "outputs": [],
   "source": [
    "# get basic parameters for pretrained models\n",
    "model_name, site_names, site_ids_tr, idp_ids = custom.pretrained_ini()"
   ]
  },
  {
   "cell_type": "code",
   "execution_count": 4,
   "metadata": {},
   "outputs": [],
   "source": [
    "###\n",
    "# longitudinal paired controls\n",
    "###\n",
    "#v11_cf = custom.idp_concat(os.path.join(main_dir,'models','adaptation_comparison_paired','V1'), 'v1_Z.txt', idp_ids,  'v11_cont_z.csv', t_dir= models_dir)\n",
    "#v12_cf = custom.idp_concat(os.path.join(main_dir,'models','adaptation_comparison_paired','V1'), 'v2_Z.txt', idp_ids,  'v12_cont_z.csv', t_dir= models_dir)\n",
    "\n",
    "v11_cf = custom.idp_concat(controls_dir, 'v1_Z.txt', idp_ids,  'v11_cont_z.csv', t_dir= models_dir)\n",
    "v12_cf = custom.idp_concat(controls_dir, 'v2_Z.txt', idp_ids,  'v12_cont_z.csv', t_dir= models_dir)\n",
    "\n",
    "# concatenate over idps and load\n",
    "v1_cont_z = pd.read_csv(v11_cf, sep = ' ', index_col=0)\n",
    "v2_cont_z = pd.read_csv(v12_cf, sep = ' ', index_col=0)\n",
    "\n",
    "# load original control data with clinics\n",
    "v1_cont_clin = pd.read_csv(os.path.join(controls_dir,'v1_common.csv'),index_col=0, sep = ' ', usecols=range(0,9))\n",
    "v2_cont_clin = pd.read_csv(os.path.join(controls_dir,'v2_common.csv'),index_col=0, sep = ' ', usecols=range(0,9))\n",
    "\n",
    "v1_cont_orig = pd.read_csv(os.path.join(controls_dir,'v1_common.csv'),index_col=0, sep = ' ')\n",
    "v2_cont_orig = pd.read_csv(os.path.join(controls_dir,'v2_common.csv'),index_col=0, sep = ' ')\n",
    "\n",
    "# change index before concatenation\n",
    "v1_cont_z.index = v1_cont_clin.index\n",
    "v2_cont_z.index = v2_cont_clin.index\n",
    "\n",
    "# concatenate\n",
    "v1_cont = pd.concat([v1_cont_clin,v1_cont_z],axis=1,join='inner')\n",
    "v2_cont = pd.concat([v2_cont_clin,v2_cont_z],axis=1,join='inner')\n"
   ]
  },
  {
   "cell_type": "code",
   "execution_count": 5,
   "metadata": {},
   "outputs": [],
   "source": [
    "###\n",
    "# patients\n",
    "###\n",
    "\n",
    "v11_pf = custom.idp_concat(os.path.join(patients_dir,'V1'), 'Z_predict.txt', idp_ids,  'v11_pat_z.csv', t_dir= models_dir)\n",
    "v12_pf = custom.idp_concat(os.path.join(patients_dir,'V2'), 'Z_predict.txt', idp_ids,  'v12_pat_z.csv', t_dir= models_dir)\n",
    "\n",
    "# concatenate over idps and load\n",
    "v1_pat_z = pd.read_csv(v11_pf, sep = ' ', index_col=0)\n",
    "v2_pat_z = pd.read_csv(v12_pf, sep = ' ', index_col=0)\n",
    "\n",
    "# load clinics\n",
    "v1_pat_clin = pd.read_csv(os.path.join(patients_dir,'v1_pat.txt'), sep=' ', index_col=0, usecols=range(0,9))\n",
    "v2_pat_clin = pd.read_csv(os.path.join(patients_dir,'v2_pat.txt'), sep=' ', index_col=0, usecols=range(0,9))\n",
    "\n",
    "v1_pat_orig_all = pd.read_csv(os.path.join(patients_dir,'v1_pat.txt'), sep=' ', index_col=0)\n",
    "v2_pat_orig_all = pd.read_csv(os.path.join(patients_dir,'v2_pat.txt'), sep=' ', index_col=0)\n",
    "\n",
    "# DON'T RUN FOR LONGIT DATA\n",
    "# delete visit from index\n",
    "#v1_pat_clin.index = v1_pat_clin.index.str.slice_replace(start=-2, repl='').to_numpy()\n",
    "#v2_pat_clin.index = v2_pat_clin.index.str.slice_replace(start=-2, repl='').to_numpy()\n",
    "#v1_pat_orig_all.index = v1_pat_orig_all.index.str.slice_replace(start=-2, repl='').to_numpy()\n",
    "#v2_pat_orig_all.index = v2_pat_orig_all.index.str.slice_replace(start=-2, repl='').to_numpy()\n",
    "\n",
    "# change index before concatenation\n",
    "v1_pat_z.index = v1_pat_clin.index\n",
    "v2_pat_z.index = v2_pat_clin.index\n",
    "\n",
    "# concatenate\n",
    "v1_pat_all = pd.concat([v1_pat_clin,v1_pat_z],axis=1,join='inner')\n",
    "v2_pat_all = pd.concat([v2_pat_clin,v2_pat_z],axis=1,join='inner')\n",
    "\n",
    "# We only want to keep patients with both visits\n",
    "common = v1_pat_all.index.intersection(v2_pat_all.index)\n",
    "v1_common_id = np.where(v1_pat_all.index.isin(common))\n",
    "v2_common_id = np.where(v2_pat_all.index.isin(common))\n",
    "\n",
    "v1_pat = v1_pat_all.loc[common]\n",
    "v2_pat = v2_pat_all.loc[common]\n",
    "\n",
    "v1_pat_orig = v1_pat_orig_all.loc[common]\n",
    "v2_pat_orig = v2_pat_orig_all.loc[common]\n",
    "\n",
    "delta_pat = v2_pat['age']-v1_pat['age']\n",
    "\n",
    "\n"
   ]
  },
  {
   "cell_type": "code",
   "execution_count": 6,
   "metadata": {},
   "outputs": [],
   "source": [
    "v1_pat.to_csv(os.path.join(models_dir, 'v1_pat.txt'), sep=' ', header=True, index=True)\n",
    "v2_pat.to_csv(os.path.join(models_dir, 'v2_pat.txt'), sep=' ', header=True, index=True)\n",
    "v1_cont.to_csv(os.path.join(models_dir, 'v1_cont.txt'), sep=' ', header=True, index=True)\n",
    "v2_cont.to_csv(os.path.join(models_dir, 'v2_cont.txt'), sep=' ', header=True, index=True)"
   ]
  },
  {
   "cell_type": "code",
   "execution_count": 7,
   "metadata": {},
   "outputs": [],
   "source": [
    "col_comp_id = np.where(v1_pat.columns.isin(idp_ids))[0]"
   ]
  },
  {
   "cell_type": "code",
   "execution_count": 8,
   "metadata": {},
   "outputs": [],
   "source": [
    "def simple_sig(cont_diff, pat_diff, idp_ids):\n",
    "    from scipy.stats import norm\n",
    "    pat_sig = np.empty_like(pat_diff)\n",
    " \n",
    "    for n_idp, idp in enumerate(idp_ids):\n",
    "        pat_sig[:,n_idp] = 1 - norm(loc = cont_diff[idp].mean(), scale = cont_diff[idp].var()).cdf(abs(pat_diff[idp]))\n",
    "\n",
    "    df_pat_sig = pd.DataFrame(pat_sig, columns=v1_pat.columns[col_comp_id], index=pat_diff.index)\n",
    "    return(df_pat_sig)"
   ]
  },
  {
   "cell_type": "code",
   "execution_count": 9,
   "metadata": {},
   "outputs": [],
   "source": [
    "def nn_deltat_sig(cont_diff, pat_diff, a1, a2, idp_ids):\n",
    "    from scipy.stats import norm\n",
    "    pat_sig = np.empty_like(pat_diff)\n",
    " \n",
    "    for n_idp, idp in enumerate(idp_ids):\n",
    "        pat_sig[:,n_idp] = 1 - norm(loc = 0, \n",
    "                                    scale = (cont_diff[idp].var()**2)/((a2-a1)**2)).cdf(abs(pat_diff[idp]))\n",
    "\n",
    "    df_pat_sig = pd.DataFrame(pat_sig, columns=v1_pat.columns[col_comp_id], index=pat_diff.index)\n",
    "    return(df_pat_sig)"
   ]
  },
  {
   "cell_type": "code",
   "execution_count": 10,
   "metadata": {},
   "outputs": [],
   "source": [
    "# Finally, compute the differences\n",
    "col_comp_id = np.where(v1_pat.columns.isin(idp_ids))[0]\n",
    "cont_diff = (v2_cont.iloc[:,col_comp_id]) - (v1_cont.iloc[:,col_comp_id])\n",
    "pat_diff = (v2_pat.iloc[:,col_comp_id]) - (v1_pat.iloc[:,col_comp_id])"
   ]
  },
  {
   "cell_type": "code",
   "execution_count": 30,
   "metadata": {},
   "outputs": [
    {
     "data": {
      "image/png": "[encoded data removed]",
      "text/plain": [
       "<Figure size 1080x720 with 2 Axes>"
      ]
     },
     "metadata": {},
     "output_type": "display_data"
    }
   ],
   "source": [
    "# and significance of differences\n",
    "# parameters of normal distribution are taken from controls\n",
    "df_pat_sig = simple_sig(cont_diff, cont_diff, idp_ids)\n",
    "\n",
    "reordered_heatmap(df_pat_sig, \n",
    "                    title = 'Pvalues thresholded on 0.05 - Normal distribution (zero, controls var), time not considered', \n",
    "                    savename = os.path.join(models_dir,'heatmap_pvals_notdetrended_noalphashift_notime'),\n",
    "                    range = cont_diff)\n"
   ]
  },
  {
   "cell_type": "code",
   "execution_count": 19,
   "metadata": {},
   "outputs": [
    {
     "ename": "NameError",
     "evalue": "name 'reordered_heatmap' is not defined",
     "output_type": "error",
     "traceback": [
      "\u001b[0;31m---------------------------------------------------------------------------\u001b[0m",
      "\u001b[0;31mNameError\u001b[0m                                 Traceback (most recent call last)",
      "\u001b[0;32m/tmp/ipykernel_9944/1162924001.py\u001b[0m in \u001b[0;36m<module>\u001b[0;34m\u001b[0m\n\u001b[1;32m      1\u001b[0m \u001b[0mdf_pat_sig\u001b[0m \u001b[0;34m=\u001b[0m \u001b[0mnn_deltat_sig\u001b[0m\u001b[0;34m(\u001b[0m\u001b[0mcont_diff\u001b[0m\u001b[0;34m,\u001b[0m \u001b[0mpat_diff\u001b[0m\u001b[0;34m,\u001b[0m \u001b[0mv1_pat\u001b[0m\u001b[0;34m[\u001b[0m\u001b[0;34m'age'\u001b[0m\u001b[0;34m]\u001b[0m\u001b[0;34m,\u001b[0m \u001b[0mv2_pat\u001b[0m\u001b[0;34m[\u001b[0m\u001b[0;34m'age'\u001b[0m\u001b[0;34m]\u001b[0m\u001b[0;34m,\u001b[0m  \u001b[0midp_ids\u001b[0m\u001b[0;34m)\u001b[0m\u001b[0;34m\u001b[0m\u001b[0;34m\u001b[0m\u001b[0m\n\u001b[1;32m      2\u001b[0m \u001b[0;34m\u001b[0m\u001b[0m\n\u001b[0;32m----> 3\u001b[0;31m reordered_heatmap(df_pat_sig, \n\u001b[0m\u001b[1;32m      4\u001b[0m                     \u001b[0mtitle\u001b[0m \u001b[0;34m=\u001b[0m \u001b[0;34m'Pvalues thresholded on 0.05 - Normal distribution (zero, controls var), time considered'\u001b[0m\u001b[0;34m,\u001b[0m\u001b[0;34m\u001b[0m\u001b[0;34m\u001b[0m\u001b[0m\n\u001b[1;32m      5\u001b[0m                     savename = os.path.join(models_dir,'heatmap_pvals_notdetrended_noalphashift_time'))\n",
      "\u001b[0;31mNameError\u001b[0m: name 'reordered_heatmap' is not defined"
     ]
    }
   ],
   "source": [
    "df_pat_sig = nn_deltat_sig(cont_diff, pat_diff, v1_pat['age'], v2_pat['age'],  idp_ids)\n",
    "\n",
    "reordered_heatmap(df_pat_sig, \n",
    "                    title = 'Pvalues thresholded on 0.05 - Normal distribution (zero, controls var), time considered', \n",
    "                    savename = os.path.join(models_dir,'heatmap_pvals_notdetrended_noalphashift_time'))\n"
   ]
  },
  {
   "cell_type": "code",
   "execution_count": 66,
   "metadata": {},
   "outputs": [
    {
     "data": {
      "image/png": "[encoded data removed]",
      "text/plain": [
       "<Figure size 432x288 with 2 Axes>"
      ]
     },
     "metadata": {},
     "output_type": "display_data"
    }
   ],
   "source": [
    "fig, ax = plt.subplots(1,2, sharey=True)\n",
    "sns.boxplot(y=cont_diff['EstimatedTotalIntraCranialVol'], ax=ax[0], orient='v')\n",
    "sns.boxplot(y=pat_diff['EstimatedTotalIntraCranialVol'], ax=ax[1], orient='v')\n",
    "sns.despine()\n",
    "plt.show()\n"
   ]
  },
  {
   "cell_type": "code",
   "execution_count": 70,
   "metadata": {},
   "outputs": [
    {
     "data": {
      "text/plain": [
       "1.1278991596638661"
      ]
     },
     "execution_count": 70,
     "metadata": {},
     "output_type": "execute_result"
    }
   ],
   "source": [
    "(v2_pat['age']-v1_pat['age']).mean()"
   ]
  },
  {
   "cell_type": "code",
   "execution_count": 26,
   "metadata": {},
   "outputs": [],
   "source": [
    "def empirical_dist(x, a1, a2, vec, **kwargs):\n",
    "    \"\"\"\n",
    "    Returns the pvalue of empirical distribution of vector vec (pd series vec) based on value x and time computed from ages (a1, a2)\n",
    "    the statistic is: \n",
    "    alpha = x/(a2-a1)\n",
    "\n",
    "    we are testing whether alpha is different from zero... for now\n",
    "    p = empirical_dist(x, vec)\n",
    "    \"\"\"\n",
    "    shift = kwargs.get('shift', 0)    \n",
    "    alpha = (x)/(a2-a1)\n",
    "    vec = vec-vec.mean()\n",
    "\n",
    "    if shift == 0:\n",
    "        st = (alpha<=vec).sum()/max(vec.shape)\n",
    "        p = 1- max(np.array([st, 1-st]))\n",
    "    elif shift > 0:\n",
    "        st = (alpha>=(vec+shift)).sum()/max(vec.shape)\n",
    "        p = 1- st\n",
    "    elif shift < 0:\n",
    "        st = (alpha<=(vec+shift)).sum()/max(vec.shape)\n",
    "        p = 1- st\n",
    "\n",
    "    return (p)"
   ]
  },
  {
   "cell_type": "code",
   "execution_count": 27,
   "metadata": {},
   "outputs": [],
   "source": [
    "def reordered_heatmap(empir_pvals, **kwargs):\n",
    "    \"\"\"Function takes pandas dataframe and returns back the same one, just reordered\n",
    "    () = reordered heatmap(emmpir_pvals, **kwargs)\n",
    "        title... figure title\n",
    "        savename... save name - has to be the entire path!\n",
    "    \"\"\"\n",
    "\n",
    "    # Playing around with row and columns reodering for plotting\n",
    "    title = kwargs.get('title','Pvalues thresholded on 0.05')\n",
    "    savename = kwargs.get('savefig', False)\n",
    "    range = kwargs.get('range', None)\n",
    "\n",
    "    # colorscale\n",
    "    pk2 = sns.color_palette(\"RdBu_r\", 8)\n",
    "    pk2[0] = pk[3]\n",
    "    pk2[1] = pk[2]\n",
    "    pk2[2] = pk[1]\n",
    "    pk2[3] = pk[0]\n",
    "    pk2[4] = pk[7]\n",
    "    pk2[5] = pk[6]\n",
    "    pk2[6] = pk[5]\n",
    "    pk2[7] = pk[4]\n",
    "\n",
    "    if ~range.empty:\n",
    "        empir_pvals = pd.DataFrame((np.sign(range)).to_numpy()*empir_pvals.to_numpy(), columns=empir_pvals.columns, index=empir_pvals.index)\n",
    "        ylim = -0.075        \n",
    "    else:\n",
    "        ylim = 0\n",
    "\n",
    "    ctemp = (abs(empir_pvals)<0.05).sum()\n",
    "    rtemp = (abs(empir_pvals)<0.05).T.sum()\n",
    "    empir_pvals_csorted = empir_pvals[ctemp.sort_values(ascending=False).index[:len(ctemp)]]\n",
    "    empir_pvals_rsorted = empir_pvals_csorted.reindex(empir_pvals_csorted.apply(lambda x: (abs(x)<0.05).sum(), axis =1).sort_values(ascending=False).index.to_list())\n",
    "\n",
    "    \n",
    "\n",
    "    # pot heatmap of pvals\n",
    "    fig,ax  = plt.subplots(1,1, figsize=(15,10))\n",
    "    sns.heatmap(empir_pvals_rsorted, vmin=ylim, vmax=0.075, cmap=pk2)\n",
    "    fig.suptitle(title)\n",
    "    sns.despine()\n",
    "    plt.tight_layout()\n",
    "    plt.show\n",
    "    if savename:\n",
    "        plt.savefig(savename)"
   ]
  },
  {
   "cell_type": "code",
   "execution_count": 29,
   "metadata": {},
   "outputs": [],
   "source": [
    "#sns.mpl_palette(, 8)\n",
    "\n",
    "pk = sns.color_palette(\"RdBu_r\", 8)\n",
    "pk2 = sns.color_palette(\"RdBu_r\", 8)\n",
    "pk2[0] = pk[3]\n",
    "pk2[1] = pk[2]\n",
    "pk2[2] = pk[1]\n",
    "pk2[3] = pk[0]\n",
    "pk2[4] = pk[7]\n",
    "pk2[5] = pk[6]\n",
    "pk2[6] = pk[5]\n",
    "pk2[7] = pk[4]\n"
   ]
  },
  {
   "cell_type": "code",
   "execution_count": 28,
   "metadata": {},
   "outputs": [
    {
     "ename": "NameError",
     "evalue": "name 'pk' is not defined",
     "output_type": "error",
     "traceback": [
      "\u001b[0;31m---------------------------------------------------------------------------\u001b[0m",
      "\u001b[0;31mNameError\u001b[0m                                 Traceback (most recent call last)",
      "\u001b[0;32m/tmp/ipykernel_9944/2556584622.py\u001b[0m in \u001b[0;36m<module>\u001b[0;34m\u001b[0m\n\u001b[1;32m      1\u001b[0m \u001b[0mpk2\u001b[0m \u001b[0;34m=\u001b[0m \u001b[0msns\u001b[0m\u001b[0;34m.\u001b[0m\u001b[0mcolor_palette\u001b[0m\u001b[0;34m(\u001b[0m\u001b[0;34m\"RdBu_r\"\u001b[0m\u001b[0;34m,\u001b[0m \u001b[0;36m8\u001b[0m\u001b[0;34m)\u001b[0m\u001b[0;34m\u001b[0m\u001b[0;34m\u001b[0m\u001b[0m\n\u001b[0;32m----> 2\u001b[0;31m \u001b[0mpk2\u001b[0m\u001b[0;34m[\u001b[0m\u001b[0;36m0\u001b[0m\u001b[0;34m]\u001b[0m \u001b[0;34m=\u001b[0m \u001b[0mpk\u001b[0m\u001b[0;34m[\u001b[0m\u001b[0;36m3\u001b[0m\u001b[0;34m]\u001b[0m\u001b[0;34m\u001b[0m\u001b[0;34m\u001b[0m\u001b[0m\n\u001b[0m\u001b[1;32m      3\u001b[0m \u001b[0mpk2\u001b[0m\u001b[0;34m[\u001b[0m\u001b[0;36m1\u001b[0m\u001b[0;34m]\u001b[0m \u001b[0;34m=\u001b[0m \u001b[0mpk\u001b[0m\u001b[0;34m[\u001b[0m\u001b[0;36m2\u001b[0m\u001b[0;34m]\u001b[0m\u001b[0;34m\u001b[0m\u001b[0;34m\u001b[0m\u001b[0m\n\u001b[1;32m      4\u001b[0m \u001b[0mpk2\u001b[0m\u001b[0;34m[\u001b[0m\u001b[0;36m2\u001b[0m\u001b[0;34m]\u001b[0m \u001b[0;34m=\u001b[0m \u001b[0mpk\u001b[0m\u001b[0;34m[\u001b[0m\u001b[0;36m1\u001b[0m\u001b[0;34m]\u001b[0m\u001b[0;34m\u001b[0m\u001b[0;34m\u001b[0m\u001b[0m\n\u001b[1;32m      5\u001b[0m \u001b[0mpk2\u001b[0m\u001b[0;34m[\u001b[0m\u001b[0;36m3\u001b[0m\u001b[0;34m]\u001b[0m \u001b[0;34m=\u001b[0m \u001b[0mpk\u001b[0m\u001b[0;34m[\u001b[0m\u001b[0;36m0\u001b[0m\u001b[0;34m]\u001b[0m\u001b[0;34m\u001b[0m\u001b[0;34m\u001b[0m\u001b[0m\n",
      "\u001b[0;31mNameError\u001b[0m: name 'pk' is not defined"
     ]
    }
   ],
   "source": []
  },
  {
   "cell_type": "code",
   "execution_count": 214,
   "metadata": {},
   "outputs": [
    {
     "data": {
      "text/html": [
       "<svg  width=\"440\" height=\"55\"><rect x=\"0\" y=\"0\" width=\"55\" height=\"55\" style=\"fill:#e1edf3;stroke-width:2;stroke:rgb(255,255,255)\"/><rect x=\"55\" y=\"0\" width=\"55\" height=\"55\" style=\"fill:#a7d0e4;stroke-width:2;stroke:rgb(255,255,255)\"/><rect x=\"110\" y=\"0\" width=\"55\" height=\"55\" style=\"fill:#529dc8;stroke-width:2;stroke:rgb(255,255,255)\"/><rect x=\"165\" y=\"0\" width=\"55\" height=\"55\" style=\"fill:#246aae;stroke-width:2;stroke:rgb(255,255,255)\"/><rect x=\"220\" y=\"0\" width=\"55\" height=\"55\" style=\"fill:#b61f2e;stroke-width:2;stroke:rgb(255,255,255)\"/><rect x=\"275\" y=\"0\" width=\"55\" height=\"55\" style=\"fill:#dc6e57;stroke-width:2;stroke:rgb(255,255,255)\"/><rect x=\"330\" y=\"0\" width=\"55\" height=\"55\" style=\"fill:#f7b799;stroke-width:2;stroke:rgb(255,255,255)\"/><rect x=\"385\" y=\"0\" width=\"55\" height=\"55\" style=\"fill:#fae7dc;stroke-width:2;stroke:rgb(255,255,255)\"/></svg>"
      ],
      "text/plain": [
       "[(0.8838908112264514, 0.9284890426758939, 0.9530180699730872),\n",
       " (0.6549019607843138, 0.8143790849673204, 0.8941176470588236),\n",
       " (0.32349096501345653, 0.6149173394848136, 0.7854671280276817),\n",
       " (0.142483660130719, 0.4173010380622838, 0.6833525567089581),\n",
       " (0.7118800461361015, 0.12179930795847749, 0.18169934640522878),\n",
       " (0.8622837370242215, 0.42952710495963087, 0.34271434063821604),\n",
       " (0.9686274509803922, 0.7176470588235294, 0.6),\n",
       " (0.982006920415225, 0.9061899269511726, 0.8615916955017301)]"
      ]
     },
     "execution_count": 214,
     "metadata": {},
     "output_type": "execute_result"
    }
   ],
   "source": [
    "pk2"
   ]
  },
  {
   "cell_type": "code",
   "execution_count": 430,
   "metadata": {},
   "outputs": [],
   "source": [
    "###\n",
    "# Using empirical distribution function - checking, whether alpha ~= 0\n",
    "###\n",
    "\n",
    "#pk = pat_diff.apply(lambda x: x.apply(lambda y: empirical_dist(y, cont_diff.iloc[:,id])), axis = 1)\n",
    "pk = np.empty_like(pat_diff)\n",
    "for icol in range(pat_diff.shape[1]):\n",
    "    for ipat in range(pat_diff.shape[0]): \n",
    "        pat_id = pat_diff.index[ipat]\n",
    "        pk[ipat, icol] = empirical_dist(pat_diff.iloc[ipat,icol], \n",
    "                                        v1_pat['age'].loc[pat_id], \n",
    "                                        v2_pat['age'].loc[pat_id], \n",
    "                                        cont_diff.iloc[:,icol],\n",
    "                                        shift=pat_diff['EstimatedTotalIntraCranialVol'].loc[pat_id])\n",
    "\n",
    "empir_pvals = pd.DataFrame(pk, index=pat_diff.index, columns=pat_diff.columns)\n",
    "reordered_heatmap(empir_pvals, \n",
    "                    title = 'Pvalues thresholded on 0.05 - empirical distribution function, alpha shift based on TIV, detrending not done', \n",
    "                    savename = os.path.join(models_dir,'heatmap_pvals_notdetrended_alphashift_TIV'))"
   ]
  },
  {
   "cell_type": "code",
   "execution_count": 17,
   "metadata": {},
   "outputs": [],
   "source": [
    "# checking, whether the mean difference in controls is zero\n",
    "\"\"\"\n",
    "from scipy.stats import wilcoxon\n",
    "cont_diff.apply(lambda x: wilcoxon(x)[1])\n",
    "pk = pd.concat([cont_diff.mean(),cont_diff.apply(lambda x: wilcoxon(x)[1])],axis=1)\n",
    "pk.columns=['mean','wilcoxon pval']\n",
    "\n",
    "\n",
    "# plotting zscores\n",
    "images_dir = os.path.join(models_dir,'img_cont_diff')\n",
    "os.makedirs(images_dir, exist_ok=True)\n",
    "\n",
    "sns.set(rc={'axes.facecolor':'white', 'figure.facecolor':'white'})\n",
    "sns.set_style(\"whitegrid\")\n",
    "\n",
    "for idp in idp_ids:\n",
    "    fig = plt.subplots(1,1)\n",
    "    ax = sns.scatterplot(v1_cont[idp], cont_diff[idp])\n",
    "    ax.set(xlabel = '$\\mathregular{z_1}$ score', ylabel = '$z_2-z_1$ score', title=idp)\n",
    "    sns.despine()\n",
    "    #plt.show()\n",
    "    plt.savefig(os.path.join(images_dir,idp+'_cont.png'))\n",
    "    plt.close()\n",
    "\n",
    "\"\"\""
   ]
  },
  {
   "cell_type": "code",
   "execution_count": 18,
   "metadata": {},
   "outputs": [],
   "source": [
    "# plot patient z-scores\n",
    "\"\"\"\n",
    "images_dir = os.path.join(models_dir,'img_pat_diff')\n",
    "os.makedirs(images_dir, exist_ok=True)\n",
    "\n",
    "sns.set(rc={'axes.facecolor':'white', 'figure.facecolor':'white'})\n",
    "sns.set_style(\"whitegrid\")\n",
    "\n",
    "for idp in idp_ids:\n",
    "    fig = plt.subplots(1,1)\n",
    "    ax = sns.scatterplot(v1_pat[idp], pat_diff[idp])\n",
    "    ax.set(xlabel = '$\\mathregular{z_1}$ score', ylabel = '$z_2-z_1$ score', title=idp)\n",
    "    sns.despine()\n",
    "    #plt.show()\n",
    "    plt.savefig(os.path.join(images_dir,idp+'_pat.png'))\n",
    "    plt.close()\n",
    "\"\"\""
   ]
  },
  {
   "cell_type": "code",
   "execution_count": 73,
   "metadata": {},
   "outputs": [
    {
     "data": {
      "text/plain": [
       "<module 'matplotlib.colors' from '/home/barbora/Instalacky/yes/envs/PCN/lib/python3.9/site-packages/matplotlib/colors.py'>"
      ]
     },
     "execution_count": 73,
     "metadata": {},
     "output_type": "execute_result"
    }
   ],
   "source": [
    "matplotlib.colors"
   ]
  },
  {
   "cell_type": "code",
   "execution_count": 41,
   "metadata": {},
   "outputs": [
    {
     "name": "stdout",
     "output_type": "stream",
     "text": [
      "configuring dummy data ...\n"
     ]
    }
   ],
   "source": [
    "###\n",
    "# Load dependencies for plotting\n",
    "###\n",
    "# which data columns do we wish to use as covariates? \n",
    "#cols_cov = ['age','sex']\n",
    "# which sex do we want to plot? \n",
    "sex = 1 # 1 = male 0 = female\n",
    "if sex == 0: \n",
    "    clr = 'lightcoral'\n",
    "else:\n",
    "    clr = 'cadetblue'\n",
    "\n",
    "v1_plot = v1_pat[v1_pat['sex']==sex]\n",
    "v2_plot = v2_pat[v2_pat['sex']==sex]\n",
    "\n",
    "# limits for cubic B-spline basis \n",
    "xmin = -5 \n",
    "xmax = 110\n",
    "model_name = 'lifespan_57K_82sites'\n",
    "# Absolute Z treshold above which a sample is considered to be an outlier (without fitting any model)\n",
    "outlier_thresh = 7\n",
    "\n",
    "# create dummy data for visualisation\n",
    "print('configuring dummy data ...')\n",
    "xx = np.arange(xmin, xmax, 0.5)\n",
    "X0_dummy = np.zeros((len(xx), 2))\n",
    "X0_dummy[:,0] = xx # intercept\n",
    "X0_dummy[:,1] = sex # sex covariate\n",
    "\n",
    "X_dummy = create_design_matrix(X0_dummy, xmin=xmin, xmax=xmax, site_ids=None, all_sites=site_ids_tr)\n",
    "cov_file_dummy = os.path.join(models_dir,'cov_bspline_dummy_mean.txt')\n",
    "np.savetxt(cov_file_dummy, X_dummy)\n",
    "\n",
    "#X_dummy = pd.read_csv(os.path.join(models_dir,'cov_bspline_dummy_mean.txt'),header=None, sep=' ')\n",
    "sig_to_plot = df_pat_sig\n",
    "#images_dir = os.path.join(models_dir, 'img_normal_noshift_time_nodetrend')\n",
    "images_dir = os.path.join(models_dir, 'img')\n",
    "os.makedirs(images_dir, exist_ok=True)\n",
    "\n",
    "# adjusting done on visit 1\n",
    "visit_dir = os.path.join(main_dir,'models','pretrained_long')"
   ]
  },
  {
   "cell_type": "code",
   "execution_count": 43,
   "metadata": {},
   "outputs": [
    {
     "name": "stdout",
     "output_type": "stream",
     "text": [
      "Running IDP 0 lh_G&S_frontomargin_thickness :\n",
      "Making predictions with dummy covariates (for visualisation)\n",
      "Loading data ...\n",
      "Prediction by model  1 of 1\n",
      "Writing outputs ...\n"
     ]
    },
    {
     "name": "stderr",
     "output_type": "stream",
     "text": [
      "No handles with labels found to put in legend.\n",
      "No handles with labels found to put in legend.\n"
     ]
    },
    {
     "name": "stdout",
     "output_type": "stream",
     "text": [
      "Running IDP 1 lh_G&S_occipital_inf_thickness :\n",
      "Making predictions with dummy covariates (for visualisation)\n",
      "Loading data ...\n",
      "Prediction by model  1 of 1\n",
      "Writing outputs ...\n"
     ]
    },
    {
     "name": "stderr",
     "output_type": "stream",
     "text": [
      "No handles with labels found to put in legend.\n"
     ]
    },
    {
     "name": "stdout",
     "output_type": "stream",
     "text": [
      "Running IDP 2 lh_G&S_paracentral_thickness :\n",
      "Making predictions with dummy covariates (for visualisation)\n",
      "Loading data ...\n",
      "Prediction by model  1 of 1\n",
      "Writing outputs ...\n"
     ]
    },
    {
     "name": "stderr",
     "output_type": "stream",
     "text": [
      "No handles with labels found to put in legend.\n"
     ]
    },
    {
     "name": "stdout",
     "output_type": "stream",
     "text": [
      "Running IDP 3 lh_G&S_subcentral_thickness :\n",
      "Making predictions with dummy covariates (for visualisation)\n",
      "Loading data ...\n",
      "Prediction by model  1 of 1\n",
      "Writing outputs ...\n",
      "Running IDP 4 lh_G&S_transv_frontopol_thickness :\n",
      "Making predictions with dummy covariates (for visualisation)\n",
      "Loading data ...\n",
      "Prediction by model  1 of 1\n",
      "Writing outputs ...\n"
     ]
    },
    {
     "name": "stderr",
     "output_type": "stream",
     "text": [
      "No handles with labels found to put in legend.\n",
      "No handles with labels found to put in legend.\n"
     ]
    },
    {
     "name": "stdout",
     "output_type": "stream",
     "text": [
      "Running IDP 5 lh_G&S_cingul-Ant_thickness :\n",
      "Making predictions with dummy covariates (for visualisation)\n",
      "Loading data ...\n",
      "Prediction by model  1 of 1\n",
      "Writing outputs ...\n",
      "Running IDP 6 lh_G&S_cingul-Mid-Ant_thickness :\n",
      "Making predictions with dummy covariates (for visualisation)\n",
      "Loading data ...\n",
      "Prediction by model  1 of 1\n",
      "Writing outputs ...\n"
     ]
    },
    {
     "name": "stderr",
     "output_type": "stream",
     "text": [
      "No handles with labels found to put in legend.\n",
      "No handles with labels found to put in legend.\n"
     ]
    },
    {
     "name": "stdout",
     "output_type": "stream",
     "text": [
      "Running IDP 7 lh_G&S_cingul-Mid-Post_thickness :\n",
      "Making predictions with dummy covariates (for visualisation)\n",
      "Loading data ...\n",
      "Prediction by model  1 of 1\n",
      "Writing outputs ...\n"
     ]
    },
    {
     "name": "stderr",
     "output_type": "stream",
     "text": [
      "No handles with labels found to put in legend.\n"
     ]
    },
    {
     "name": "stdout",
     "output_type": "stream",
     "text": [
      "Running IDP 8 lh_G_cingul-Post-dorsal_thickness :\n",
      "Making predictions with dummy covariates (for visualisation)\n",
      "Loading data ...\n",
      "Prediction by model  1 of 1\n",
      "Writing outputs ...\n"
     ]
    },
    {
     "name": "stderr",
     "output_type": "stream",
     "text": [
      "No handles with labels found to put in legend.\n"
     ]
    },
    {
     "name": "stdout",
     "output_type": "stream",
     "text": [
      "Running IDP 9 lh_G_cingul-Post-ventral_thickness :\n",
      "Making predictions with dummy covariates (for visualisation)\n",
      "Loading data ...\n",
      "Prediction by model  1 of 1\n",
      "Writing outputs ...\n"
     ]
    },
    {
     "name": "stderr",
     "output_type": "stream",
     "text": [
      "No handles with labels found to put in legend.\n"
     ]
    },
    {
     "name": "stdout",
     "output_type": "stream",
     "text": [
      "Running IDP 10 lh_G_cuneus_thickness :\n",
      "Making predictions with dummy covariates (for visualisation)\n",
      "Loading data ...\n",
      "Prediction by model  1 of 1\n",
      "Writing outputs ...\n"
     ]
    },
    {
     "name": "stderr",
     "output_type": "stream",
     "text": [
      "No handles with labels found to put in legend.\n"
     ]
    },
    {
     "name": "stdout",
     "output_type": "stream",
     "text": [
      "Running IDP 11 lh_G_front_inf-Opercular_thickness :\n",
      "Making predictions with dummy covariates (for visualisation)\n",
      "Loading data ...\n",
      "Prediction by model  1 of 1\n",
      "Writing outputs ...\n"
     ]
    },
    {
     "name": "stderr",
     "output_type": "stream",
     "text": [
      "No handles with labels found to put in legend.\n"
     ]
    },
    {
     "name": "stdout",
     "output_type": "stream",
     "text": [
      "Running IDP 12 lh_G_front_inf-Orbital_thickness :\n",
      "Making predictions with dummy covariates (for visualisation)\n",
      "Loading data ...\n",
      "Prediction by model  1 of 1\n",
      "Writing outputs ...\n"
     ]
    },
    {
     "name": "stderr",
     "output_type": "stream",
     "text": [
      "No handles with labels found to put in legend.\n"
     ]
    },
    {
     "name": "stdout",
     "output_type": "stream",
     "text": [
      "Running IDP 13 lh_G_front_inf-Triangul_thickness :\n",
      "Making predictions with dummy covariates (for visualisation)\n",
      "Loading data ...\n",
      "Prediction by model  1 of 1\n",
      "Writing outputs ...\n"
     ]
    },
    {
     "name": "stderr",
     "output_type": "stream",
     "text": [
      "No handles with labels found to put in legend.\n"
     ]
    },
    {
     "name": "stdout",
     "output_type": "stream",
     "text": [
      "Running IDP 14 lh_G_front_middle_thickness :\n",
      "Making predictions with dummy covariates (for visualisation)\n",
      "Loading data ...\n",
      "Prediction by model  1 of 1\n",
      "Writing outputs ...\n"
     ]
    },
    {
     "name": "stderr",
     "output_type": "stream",
     "text": [
      "No handles with labels found to put in legend.\n"
     ]
    },
    {
     "name": "stdout",
     "output_type": "stream",
     "text": [
      "Running IDP 15 lh_G_front_sup_thickness :\n",
      "Making predictions with dummy covariates (for visualisation)\n",
      "Loading data ...\n",
      "Prediction by model  1 of 1\n",
      "Writing outputs ...\n"
     ]
    },
    {
     "name": "stderr",
     "output_type": "stream",
     "text": [
      "No handles with labels found to put in legend.\n"
     ]
    },
    {
     "name": "stdout",
     "output_type": "stream",
     "text": [
      "Running IDP 16 lh_G_Ins_lg&S_cent_ins_thickness :\n",
      "Making predictions with dummy covariates (for visualisation)\n",
      "Loading data ...\n",
      "Prediction by model  1 of 1\n",
      "Writing outputs ...\n"
     ]
    },
    {
     "name": "stderr",
     "output_type": "stream",
     "text": [
      "No handles with labels found to put in legend.\n"
     ]
    },
    {
     "name": "stdout",
     "output_type": "stream",
     "text": [
      "Running IDP 17 lh_G_insular_short_thickness :\n",
      "Making predictions with dummy covariates (for visualisation)\n",
      "Loading data ...\n",
      "Prediction by model  1 of 1\n",
      "Writing outputs ...\n"
     ]
    },
    {
     "name": "stderr",
     "output_type": "stream",
     "text": [
      "No handles with labels found to put in legend.\n"
     ]
    },
    {
     "name": "stdout",
     "output_type": "stream",
     "text": [
      "Running IDP 18 lh_G_occipital_middle_thickness :\n",
      "Making predictions with dummy covariates (for visualisation)\n",
      "Loading data ...\n",
      "Prediction by model  1 of 1\n",
      "Writing outputs ...\n"
     ]
    },
    {
     "name": "stderr",
     "output_type": "stream",
     "text": [
      "No handles with labels found to put in legend.\n"
     ]
    },
    {
     "name": "stdout",
     "output_type": "stream",
     "text": [
      "Running IDP 19 lh_G_occipital_sup_thickness :\n",
      "Making predictions with dummy covariates (for visualisation)\n",
      "Loading data ...\n",
      "Prediction by model  1 of 1\n",
      "Writing outputs ...\n"
     ]
    },
    {
     "name": "stderr",
     "output_type": "stream",
     "text": [
      "No handles with labels found to put in legend.\n"
     ]
    },
    {
     "name": "stdout",
     "output_type": "stream",
     "text": [
      "Running IDP 20 lh_G_oc-temp_lat-fusifor_thickness :\n",
      "Making predictions with dummy covariates (for visualisation)\n",
      "Loading data ...\n",
      "Prediction by model  1 of 1\n",
      "Writing outputs ...\n"
     ]
    },
    {
     "name": "stderr",
     "output_type": "stream",
     "text": [
      "No handles with labels found to put in legend.\n"
     ]
    },
    {
     "name": "stdout",
     "output_type": "stream",
     "text": [
      "Running IDP 21 lh_G_oc-temp_med-Lingual_thickness :\n",
      "Making predictions with dummy covariates (for visualisation)\n",
      "Loading data ...\n",
      "Prediction by model  1 of 1\n",
      "Writing outputs ...\n"
     ]
    },
    {
     "name": "stderr",
     "output_type": "stream",
     "text": [
      "No handles with labels found to put in legend.\n"
     ]
    },
    {
     "name": "stdout",
     "output_type": "stream",
     "text": [
      "Running IDP 22 lh_G_oc-temp_med-Parahip_thickness :\n",
      "Making predictions with dummy covariates (for visualisation)\n",
      "Loading data ...\n",
      "Prediction by model  1 of 1\n",
      "Writing outputs ...\n"
     ]
    },
    {
     "name": "stderr",
     "output_type": "stream",
     "text": [
      "No handles with labels found to put in legend.\n"
     ]
    },
    {
     "name": "stdout",
     "output_type": "stream",
     "text": [
      "Running IDP 23 lh_G_orbital_thickness :\n",
      "Making predictions with dummy covariates (for visualisation)\n",
      "Loading data ...\n",
      "Prediction by model  1 of 1\n",
      "Writing outputs ...\n"
     ]
    },
    {
     "name": "stderr",
     "output_type": "stream",
     "text": [
      "No handles with labels found to put in legend.\n"
     ]
    },
    {
     "name": "stdout",
     "output_type": "stream",
     "text": [
      "Running IDP 24 lh_G_pariet_inf-Angular_thickness :\n",
      "Making predictions with dummy covariates (for visualisation)\n",
      "Loading data ...\n",
      "Prediction by model  1 of 1\n",
      "Writing outputs ...\n"
     ]
    },
    {
     "name": "stderr",
     "output_type": "stream",
     "text": [
      "No handles with labels found to put in legend.\n"
     ]
    },
    {
     "name": "stdout",
     "output_type": "stream",
     "text": [
      "Running IDP 25 lh_G_pariet_inf-Supramar_thickness :\n",
      "Making predictions with dummy covariates (for visualisation)\n",
      "Loading data ...\n",
      "Prediction by model  1 of 1\n",
      "Writing outputs ...\n"
     ]
    },
    {
     "name": "stderr",
     "output_type": "stream",
     "text": [
      "No handles with labels found to put in legend.\n"
     ]
    },
    {
     "name": "stdout",
     "output_type": "stream",
     "text": [
      "Running IDP 26 lh_G_parietal_sup_thickness :\n",
      "Making predictions with dummy covariates (for visualisation)\n",
      "Loading data ...\n",
      "Prediction by model  1 of 1\n",
      "Writing outputs ...\n"
     ]
    },
    {
     "name": "stderr",
     "output_type": "stream",
     "text": [
      "No handles with labels found to put in legend.\n"
     ]
    },
    {
     "name": "stdout",
     "output_type": "stream",
     "text": [
      "Running IDP 27 lh_G_postcentral_thickness :\n",
      "Making predictions with dummy covariates (for visualisation)\n",
      "Loading data ...\n",
      "Prediction by model  1 of 1\n",
      "Writing outputs ...\n"
     ]
    },
    {
     "name": "stderr",
     "output_type": "stream",
     "text": [
      "No handles with labels found to put in legend.\n"
     ]
    },
    {
     "name": "stdout",
     "output_type": "stream",
     "text": [
      "Running IDP 28 lh_G_precentral_thickness :\n",
      "Making predictions with dummy covariates (for visualisation)\n",
      "Loading data ...\n",
      "Prediction by model  1 of 1\n",
      "Writing outputs ...\n"
     ]
    },
    {
     "name": "stderr",
     "output_type": "stream",
     "text": [
      "No handles with labels found to put in legend.\n"
     ]
    },
    {
     "name": "stdout",
     "output_type": "stream",
     "text": [
      "Running IDP 29 lh_G_precuneus_thickness :\n",
      "Making predictions with dummy covariates (for visualisation)\n",
      "Loading data ...\n",
      "Prediction by model  1 of 1\n",
      "Writing outputs ...\n"
     ]
    },
    {
     "name": "stderr",
     "output_type": "stream",
     "text": [
      "No handles with labels found to put in legend.\n"
     ]
    },
    {
     "name": "stdout",
     "output_type": "stream",
     "text": [
      "Running IDP 30 lh_G_rectus_thickness :\n",
      "Making predictions with dummy covariates (for visualisation)\n",
      "Loading data ...\n",
      "Prediction by model  1 of 1\n",
      "Writing outputs ...\n"
     ]
    },
    {
     "name": "stderr",
     "output_type": "stream",
     "text": [
      "No handles with labels found to put in legend.\n"
     ]
    },
    {
     "name": "stdout",
     "output_type": "stream",
     "text": [
      "Running IDP 31 lh_G_subcallosal_thickness :\n",
      "Making predictions with dummy covariates (for visualisation)\n",
      "Loading data ...\n",
      "Prediction by model  1 of 1\n",
      "Writing outputs ...\n"
     ]
    },
    {
     "name": "stderr",
     "output_type": "stream",
     "text": [
      "No handles with labels found to put in legend.\n"
     ]
    },
    {
     "name": "stdout",
     "output_type": "stream",
     "text": [
      "Running IDP 32 lh_G_temp_sup-G_T_transv_thickness :\n",
      "Making predictions with dummy covariates (for visualisation)\n",
      "Loading data ...\n",
      "Prediction by model  1 of 1\n",
      "Writing outputs ...\n"
     ]
    },
    {
     "name": "stderr",
     "output_type": "stream",
     "text": [
      "No handles with labels found to put in legend.\n"
     ]
    },
    {
     "name": "stdout",
     "output_type": "stream",
     "text": [
      "Running IDP 33 lh_G_temp_sup-Lateral_thickness :\n",
      "Making predictions with dummy covariates (for visualisation)\n",
      "Loading data ...\n",
      "Prediction by model  1 of 1\n",
      "Writing outputs ...\n"
     ]
    },
    {
     "name": "stderr",
     "output_type": "stream",
     "text": [
      "No handles with labels found to put in legend.\n"
     ]
    },
    {
     "name": "stdout",
     "output_type": "stream",
     "text": [
      "Running IDP 34 lh_G_temp_sup-Plan_polar_thickness :\n",
      "Making predictions with dummy covariates (for visualisation)\n",
      "Loading data ...\n",
      "Prediction by model  1 of 1\n",
      "Writing outputs ...\n"
     ]
    },
    {
     "name": "stderr",
     "output_type": "stream",
     "text": [
      "No handles with labels found to put in legend.\n"
     ]
    },
    {
     "name": "stdout",
     "output_type": "stream",
     "text": [
      "Running IDP 35 lh_G_temp_sup-Plan_tempo_thickness :\n",
      "Making predictions with dummy covariates (for visualisation)\n",
      "Loading data ...\n",
      "Prediction by model  1 of 1\n",
      "Writing outputs ...\n"
     ]
    },
    {
     "name": "stderr",
     "output_type": "stream",
     "text": [
      "No handles with labels found to put in legend.\n"
     ]
    },
    {
     "name": "stdout",
     "output_type": "stream",
     "text": [
      "Running IDP 36 lh_G_temporal_inf_thickness :\n",
      "Making predictions with dummy covariates (for visualisation)\n",
      "Loading data ...\n",
      "Prediction by model  1 of 1\n",
      "Writing outputs ...\n"
     ]
    },
    {
     "name": "stderr",
     "output_type": "stream",
     "text": [
      "No handles with labels found to put in legend.\n"
     ]
    },
    {
     "name": "stdout",
     "output_type": "stream",
     "text": [
      "Running IDP 37 lh_G_temporal_middle_thickness :\n",
      "Making predictions with dummy covariates (for visualisation)\n",
      "Loading data ...\n",
      "Prediction by model  1 of 1\n",
      "Writing outputs ...\n"
     ]
    },
    {
     "name": "stderr",
     "output_type": "stream",
     "text": [
      "No handles with labels found to put in legend.\n"
     ]
    },
    {
     "name": "stdout",
     "output_type": "stream",
     "text": [
      "Running IDP 38 lh_Lat_Fis-ant-Horizont_thickness :\n",
      "Making predictions with dummy covariates (for visualisation)\n",
      "Loading data ...\n",
      "Prediction by model  1 of 1\n",
      "Writing outputs ...\n"
     ]
    },
    {
     "name": "stderr",
     "output_type": "stream",
     "text": [
      "No handles with labels found to put in legend.\n"
     ]
    },
    {
     "name": "stdout",
     "output_type": "stream",
     "text": [
      "Running IDP 39 lh_Lat_Fis-ant-Vertical_thickness :\n",
      "Making predictions with dummy covariates (for visualisation)\n",
      "Loading data ...\n",
      "Prediction by model  1 of 1\n",
      "Writing outputs ...\n",
      "Running IDP 40 lh_Lat_Fis-post_thickness :\n",
      "Making predictions with dummy covariates (for visualisation)\n",
      "Loading data ...\n",
      "Prediction by model  1 of 1\n",
      "Writing outputs ...\n"
     ]
    },
    {
     "name": "stderr",
     "output_type": "stream",
     "text": [
      "No handles with labels found to put in legend.\n",
      "No handles with labels found to put in legend.\n"
     ]
    },
    {
     "name": "stdout",
     "output_type": "stream",
     "text": [
      "Running IDP 41 lh_Pole_occipital_thickness :\n",
      "Making predictions with dummy covariates (for visualisation)\n",
      "Loading data ...\n",
      "Prediction by model  1 of 1\n",
      "Writing outputs ...\n"
     ]
    },
    {
     "name": "stderr",
     "output_type": "stream",
     "text": [
      "No handles with labels found to put in legend.\n"
     ]
    },
    {
     "name": "stdout",
     "output_type": "stream",
     "text": [
      "Running IDP 42 lh_Pole_temporal_thickness :\n",
      "Making predictions with dummy covariates (for visualisation)\n",
      "Loading data ...\n",
      "Prediction by model  1 of 1\n",
      "Writing outputs ...\n"
     ]
    },
    {
     "name": "stderr",
     "output_type": "stream",
     "text": [
      "No handles with labels found to put in legend.\n"
     ]
    },
    {
     "name": "stdout",
     "output_type": "stream",
     "text": [
      "Running IDP 43 lh_S_calcarine_thickness :\n",
      "Making predictions with dummy covariates (for visualisation)\n",
      "Loading data ...\n",
      "Prediction by model  1 of 1\n",
      "Writing outputs ...\n"
     ]
    },
    {
     "name": "stderr",
     "output_type": "stream",
     "text": [
      "No handles with labels found to put in legend.\n"
     ]
    },
    {
     "name": "stdout",
     "output_type": "stream",
     "text": [
      "Running IDP 44 lh_S_central_thickness :\n",
      "Making predictions with dummy covariates (for visualisation)\n",
      "Loading data ...\n",
      "Prediction by model  1 of 1\n",
      "Writing outputs ...\n"
     ]
    },
    {
     "name": "stderr",
     "output_type": "stream",
     "text": [
      "No handles with labels found to put in legend.\n"
     ]
    },
    {
     "name": "stdout",
     "output_type": "stream",
     "text": [
      "Running IDP 45 lh_S_cingul-Marginalis_thickness :\n",
      "Making predictions with dummy covariates (for visualisation)\n",
      "Loading data ...\n",
      "Prediction by model  1 of 1\n",
      "Writing outputs ...\n"
     ]
    },
    {
     "name": "stderr",
     "output_type": "stream",
     "text": [
      "No handles with labels found to put in legend.\n"
     ]
    },
    {
     "name": "stdout",
     "output_type": "stream",
     "text": [
      "Running IDP 46 lh_S_circular_insula_ant_thickness :\n",
      "Making predictions with dummy covariates (for visualisation)\n",
      "Loading data ...\n",
      "Prediction by model  1 of 1\n",
      "Writing outputs ...\n"
     ]
    },
    {
     "name": "stderr",
     "output_type": "stream",
     "text": [
      "No handles with labels found to put in legend.\n"
     ]
    },
    {
     "name": "stdout",
     "output_type": "stream",
     "text": [
      "Running IDP 47 lh_S_circular_insula_inf_thickness :\n",
      "Making predictions with dummy covariates (for visualisation)\n",
      "Loading data ...\n",
      "Prediction by model  1 of 1\n",
      "Writing outputs ...\n"
     ]
    },
    {
     "name": "stderr",
     "output_type": "stream",
     "text": [
      "No handles with labels found to put in legend.\n"
     ]
    },
    {
     "name": "stdout",
     "output_type": "stream",
     "text": [
      "Running IDP 48 lh_S_circular_insula_sup_thickness :\n",
      "Making predictions with dummy covariates (for visualisation)\n",
      "Loading data ...\n",
      "Prediction by model  1 of 1\n",
      "Writing outputs ...\n"
     ]
    },
    {
     "name": "stderr",
     "output_type": "stream",
     "text": [
      "No handles with labels found to put in legend.\n"
     ]
    },
    {
     "name": "stdout",
     "output_type": "stream",
     "text": [
      "Running IDP 49 lh_S_collat_transv_ant_thickness :\n",
      "Making predictions with dummy covariates (for visualisation)\n",
      "Loading data ...\n",
      "Prediction by model  1 of 1\n",
      "Writing outputs ...\n"
     ]
    },
    {
     "name": "stderr",
     "output_type": "stream",
     "text": [
      "No handles with labels found to put in legend.\n"
     ]
    },
    {
     "name": "stdout",
     "output_type": "stream",
     "text": [
      "Running IDP 50 lh_S_collat_transv_post_thickness :\n",
      "Making predictions with dummy covariates (for visualisation)\n",
      "Loading data ...\n",
      "Prediction by model  1 of 1\n",
      "Writing outputs ...\n"
     ]
    },
    {
     "name": "stderr",
     "output_type": "stream",
     "text": [
      "No handles with labels found to put in legend.\n"
     ]
    },
    {
     "name": "stdout",
     "output_type": "stream",
     "text": [
      "Running IDP 51 lh_S_front_inf_thickness :\n",
      "Making predictions with dummy covariates (for visualisation)\n",
      "Loading data ...\n",
      "Prediction by model  1 of 1\n",
      "Writing outputs ...\n"
     ]
    },
    {
     "name": "stderr",
     "output_type": "stream",
     "text": [
      "No handles with labels found to put in legend.\n"
     ]
    },
    {
     "name": "stdout",
     "output_type": "stream",
     "text": [
      "Running IDP 52 lh_S_front_middle_thickness :\n",
      "Making predictions with dummy covariates (for visualisation)\n",
      "Loading data ...\n",
      "Prediction by model  1 of 1\n",
      "Writing outputs ...\n"
     ]
    },
    {
     "name": "stderr",
     "output_type": "stream",
     "text": [
      "No handles with labels found to put in legend.\n"
     ]
    },
    {
     "name": "stdout",
     "output_type": "stream",
     "text": [
      "Running IDP 53 lh_S_front_sup_thickness :\n",
      "Making predictions with dummy covariates (for visualisation)\n",
      "Loading data ...\n",
      "Prediction by model  1 of 1\n",
      "Writing outputs ...\n"
     ]
    },
    {
     "name": "stderr",
     "output_type": "stream",
     "text": [
      "No handles with labels found to put in legend.\n"
     ]
    },
    {
     "name": "stdout",
     "output_type": "stream",
     "text": [
      "Running IDP 54 lh_S_interm_prim-Jensen_thickness :\n",
      "Making predictions with dummy covariates (for visualisation)\n",
      "Loading data ...\n",
      "Prediction by model  1 of 1\n",
      "Writing outputs ...\n"
     ]
    },
    {
     "name": "stderr",
     "output_type": "stream",
     "text": [
      "No handles with labels found to put in legend.\n"
     ]
    },
    {
     "name": "stdout",
     "output_type": "stream",
     "text": [
      "Running IDP 55 lh_S_intrapariet&P_trans_thickness :\n",
      "Making predictions with dummy covariates (for visualisation)\n",
      "Loading data ...\n",
      "Prediction by model  1 of 1\n",
      "Writing outputs ...\n"
     ]
    },
    {
     "name": "stderr",
     "output_type": "stream",
     "text": [
      "No handles with labels found to put in legend.\n"
     ]
    },
    {
     "name": "stdout",
     "output_type": "stream",
     "text": [
      "Running IDP 56 lh_S_oc_middle&Lunatus_thickness :\n",
      "Making predictions with dummy covariates (for visualisation)\n",
      "Loading data ...\n",
      "Prediction by model  1 of 1\n",
      "Writing outputs ...\n"
     ]
    },
    {
     "name": "stderr",
     "output_type": "stream",
     "text": [
      "No handles with labels found to put in legend.\n"
     ]
    },
    {
     "name": "stdout",
     "output_type": "stream",
     "text": [
      "Running IDP 57 lh_S_oc_sup&transversal_thickness :\n",
      "Making predictions with dummy covariates (for visualisation)\n",
      "Loading data ...\n",
      "Prediction by model  1 of 1\n",
      "Writing outputs ...\n",
      "Running IDP 58 lh_S_occipital_ant_thickness :\n",
      "Making predictions with dummy covariates (for visualisation)\n",
      "Loading data ...\n",
      "Prediction by model  1 of 1\n",
      "Writing outputs ...\n"
     ]
    },
    {
     "name": "stderr",
     "output_type": "stream",
     "text": [
      "No handles with labels found to put in legend.\n",
      "No handles with labels found to put in legend.\n"
     ]
    },
    {
     "name": "stdout",
     "output_type": "stream",
     "text": [
      "Running IDP 59 lh_S_oc-temp_lat_thickness :\n",
      "Making predictions with dummy covariates (for visualisation)\n",
      "Loading data ...\n",
      "Prediction by model  1 of 1\n",
      "Writing outputs ...\n"
     ]
    },
    {
     "name": "stderr",
     "output_type": "stream",
     "text": [
      "No handles with labels found to put in legend.\n"
     ]
    },
    {
     "name": "stdout",
     "output_type": "stream",
     "text": [
      "Running IDP 60 lh_S_oc-temp_med&Lingual_thickness :\n",
      "Making predictions with dummy covariates (for visualisation)\n",
      "Loading data ...\n",
      "Prediction by model  1 of 1\n",
      "Writing outputs ...\n"
     ]
    },
    {
     "name": "stderr",
     "output_type": "stream",
     "text": [
      "No handles with labels found to put in legend.\n"
     ]
    },
    {
     "name": "stdout",
     "output_type": "stream",
     "text": [
      "Running IDP 61 lh_S_orbital_lateral_thickness :\n",
      "Making predictions with dummy covariates (for visualisation)\n",
      "Loading data ...\n",
      "Prediction by model  1 of 1\n",
      "Writing outputs ...\n"
     ]
    },
    {
     "name": "stderr",
     "output_type": "stream",
     "text": [
      "No handles with labels found to put in legend.\n"
     ]
    },
    {
     "name": "stdout",
     "output_type": "stream",
     "text": [
      "Running IDP 62 lh_S_orbital_med-olfact_thickness :\n",
      "Making predictions with dummy covariates (for visualisation)\n",
      "Loading data ...\n",
      "Prediction by model  1 of 1\n",
      "Writing outputs ...\n"
     ]
    },
    {
     "name": "stderr",
     "output_type": "stream",
     "text": [
      "No handles with labels found to put in legend.\n"
     ]
    },
    {
     "name": "stdout",
     "output_type": "stream",
     "text": [
      "Running IDP 63 lh_S_orbital-H_Shaped_thickness :\n",
      "Making predictions with dummy covariates (for visualisation)\n",
      "Loading data ...\n",
      "Prediction by model  1 of 1\n",
      "Writing outputs ...\n"
     ]
    },
    {
     "name": "stderr",
     "output_type": "stream",
     "text": [
      "No handles with labels found to put in legend.\n"
     ]
    },
    {
     "name": "stdout",
     "output_type": "stream",
     "text": [
      "Running IDP 64 lh_S_parieto_occipital_thickness :\n",
      "Making predictions with dummy covariates (for visualisation)\n",
      "Loading data ...\n",
      "Prediction by model  1 of 1\n",
      "Writing outputs ...\n"
     ]
    },
    {
     "name": "stderr",
     "output_type": "stream",
     "text": [
      "No handles with labels found to put in legend.\n"
     ]
    },
    {
     "name": "stdout",
     "output_type": "stream",
     "text": [
      "Running IDP 65 lh_S_pericallosal_thickness :\n",
      "Making predictions with dummy covariates (for visualisation)\n",
      "Loading data ...\n",
      "Prediction by model  1 of 1\n",
      "Writing outputs ...\n"
     ]
    },
    {
     "name": "stderr",
     "output_type": "stream",
     "text": [
      "No handles with labels found to put in legend.\n"
     ]
    },
    {
     "name": "stdout",
     "output_type": "stream",
     "text": [
      "Running IDP 66 lh_S_postcentral_thickness :\n",
      "Making predictions with dummy covariates (for visualisation)\n",
      "Loading data ...\n",
      "Prediction by model  1 of 1\n",
      "Writing outputs ...\n"
     ]
    },
    {
     "name": "stderr",
     "output_type": "stream",
     "text": [
      "No handles with labels found to put in legend.\n"
     ]
    },
    {
     "name": "stdout",
     "output_type": "stream",
     "text": [
      "Running IDP 67 lh_S_precentral-inf-part_thickness :\n",
      "Making predictions with dummy covariates (for visualisation)\n",
      "Loading data ...\n",
      "Prediction by model  1 of 1\n",
      "Writing outputs ...\n"
     ]
    },
    {
     "name": "stderr",
     "output_type": "stream",
     "text": [
      "No handles with labels found to put in legend.\n"
     ]
    },
    {
     "name": "stdout",
     "output_type": "stream",
     "text": [
      "Running IDP 68 lh_S_precentral-sup-part_thickness :\n",
      "Making predictions with dummy covariates (for visualisation)\n",
      "Loading data ...\n",
      "Prediction by model  1 of 1\n",
      "Writing outputs ...\n"
     ]
    },
    {
     "name": "stderr",
     "output_type": "stream",
     "text": [
      "No handles with labels found to put in legend.\n"
     ]
    },
    {
     "name": "stdout",
     "output_type": "stream",
     "text": [
      "Running IDP 69 lh_S_suborbital_thickness :\n",
      "Making predictions with dummy covariates (for visualisation)\n",
      "Loading data ...\n",
      "Prediction by model  1 of 1\n",
      "Writing outputs ...\n"
     ]
    },
    {
     "name": "stderr",
     "output_type": "stream",
     "text": [
      "No handles with labels found to put in legend.\n"
     ]
    },
    {
     "name": "stdout",
     "output_type": "stream",
     "text": [
      "Running IDP 70 lh_S_subparietal_thickness :\n",
      "Making predictions with dummy covariates (for visualisation)\n",
      "Loading data ...\n",
      "Prediction by model  1 of 1\n",
      "Writing outputs ...\n"
     ]
    },
    {
     "name": "stderr",
     "output_type": "stream",
     "text": [
      "No handles with labels found to put in legend.\n"
     ]
    },
    {
     "name": "stdout",
     "output_type": "stream",
     "text": [
      "Running IDP 71 lh_S_temporal_inf_thickness :\n",
      "Making predictions with dummy covariates (for visualisation)\n",
      "Loading data ...\n",
      "Prediction by model  1 of 1\n",
      "Writing outputs ...\n"
     ]
    },
    {
     "name": "stderr",
     "output_type": "stream",
     "text": [
      "No handles with labels found to put in legend.\n"
     ]
    },
    {
     "name": "stdout",
     "output_type": "stream",
     "text": [
      "Running IDP 72 lh_S_temporal_sup_thickness :\n",
      "Making predictions with dummy covariates (for visualisation)\n",
      "Loading data ...\n",
      "Prediction by model  1 of 1\n",
      "Writing outputs ...\n"
     ]
    },
    {
     "name": "stderr",
     "output_type": "stream",
     "text": [
      "No handles with labels found to put in legend.\n"
     ]
    },
    {
     "name": "stdout",
     "output_type": "stream",
     "text": [
      "Running IDP 73 lh_S_temporal_transverse_thickness :\n",
      "Making predictions with dummy covariates (for visualisation)\n",
      "Loading data ...\n",
      "Prediction by model  1 of 1\n",
      "Writing outputs ...\n"
     ]
    },
    {
     "name": "stderr",
     "output_type": "stream",
     "text": [
      "No handles with labels found to put in legend.\n"
     ]
    },
    {
     "name": "stdout",
     "output_type": "stream",
     "text": [
      "Running IDP 74 rh_G&S_frontomargin_thickness :\n",
      "Making predictions with dummy covariates (for visualisation)\n",
      "Loading data ...\n",
      "Prediction by model  1 of 1\n",
      "Writing outputs ...\n"
     ]
    },
    {
     "name": "stderr",
     "output_type": "stream",
     "text": [
      "No handles with labels found to put in legend.\n"
     ]
    },
    {
     "name": "stdout",
     "output_type": "stream",
     "text": [
      "Running IDP 75 rh_G&S_occipital_inf_thickness :\n",
      "Making predictions with dummy covariates (for visualisation)\n",
      "Loading data ...\n",
      "Prediction by model  1 of 1\n",
      "Writing outputs ...\n"
     ]
    },
    {
     "name": "stderr",
     "output_type": "stream",
     "text": [
      "No handles with labels found to put in legend.\n"
     ]
    },
    {
     "name": "stdout",
     "output_type": "stream",
     "text": [
      "Running IDP 76 rh_G&S_paracentral_thickness :\n",
      "Making predictions with dummy covariates (for visualisation)\n",
      "Loading data ...\n",
      "Prediction by model  1 of 1\n",
      "Writing outputs ...\n"
     ]
    },
    {
     "name": "stderr",
     "output_type": "stream",
     "text": [
      "No handles with labels found to put in legend.\n"
     ]
    },
    {
     "name": "stdout",
     "output_type": "stream",
     "text": [
      "Running IDP 77 rh_G&S_subcentral_thickness :\n",
      "Making predictions with dummy covariates (for visualisation)\n",
      "Loading data ...\n",
      "Prediction by model  1 of 1\n",
      "Writing outputs ...\n"
     ]
    },
    {
     "name": "stderr",
     "output_type": "stream",
     "text": [
      "No handles with labels found to put in legend.\n"
     ]
    },
    {
     "name": "stdout",
     "output_type": "stream",
     "text": [
      "Running IDP 78 rh_G&S_transv_frontopol_thickness :\n",
      "Making predictions with dummy covariates (for visualisation)\n",
      "Loading data ...\n",
      "Prediction by model  1 of 1\n",
      "Writing outputs ...\n"
     ]
    },
    {
     "name": "stderr",
     "output_type": "stream",
     "text": [
      "No handles with labels found to put in legend.\n"
     ]
    },
    {
     "name": "stdout",
     "output_type": "stream",
     "text": [
      "Running IDP 79 rh_G&S_cingul-Ant_thickness :\n",
      "Making predictions with dummy covariates (for visualisation)\n",
      "Loading data ...\n",
      "Prediction by model  1 of 1\n",
      "Writing outputs ...\n",
      "Running IDP 80 rh_G&S_cingul-Mid-Ant_thickness :\n",
      "Making predictions with dummy covariates (for visualisation)\n",
      "Loading data ...\n",
      "Prediction by model  1 of 1\n",
      "Writing outputs ...\n"
     ]
    },
    {
     "name": "stderr",
     "output_type": "stream",
     "text": [
      "No handles with labels found to put in legend.\n",
      "No handles with labels found to put in legend.\n"
     ]
    },
    {
     "name": "stdout",
     "output_type": "stream",
     "text": [
      "Running IDP 81 rh_G&S_cingul-Mid-Post_thickness :\n",
      "Making predictions with dummy covariates (for visualisation)\n",
      "Loading data ...\n",
      "Prediction by model  1 of 1\n",
      "Writing outputs ...\n"
     ]
    },
    {
     "name": "stderr",
     "output_type": "stream",
     "text": [
      "No handles with labels found to put in legend.\n"
     ]
    },
    {
     "name": "stdout",
     "output_type": "stream",
     "text": [
      "Running IDP 82 rh_G_cingul-Post-dorsal_thickness :\n",
      "Making predictions with dummy covariates (for visualisation)\n",
      "Loading data ...\n",
      "Prediction by model  1 of 1\n",
      "Writing outputs ...\n"
     ]
    },
    {
     "name": "stderr",
     "output_type": "stream",
     "text": [
      "No handles with labels found to put in legend.\n"
     ]
    },
    {
     "name": "stdout",
     "output_type": "stream",
     "text": [
      "Running IDP 83 rh_G_cingul-Post-ventral_thickness :\n",
      "Making predictions with dummy covariates (for visualisation)\n",
      "Loading data ...\n",
      "Prediction by model  1 of 1\n",
      "Writing outputs ...\n"
     ]
    },
    {
     "name": "stderr",
     "output_type": "stream",
     "text": [
      "No handles with labels found to put in legend.\n"
     ]
    },
    {
     "name": "stdout",
     "output_type": "stream",
     "text": [
      "Running IDP 84 rh_G_cuneus_thickness :\n",
      "Making predictions with dummy covariates (for visualisation)\n",
      "Loading data ...\n",
      "Prediction by model  1 of 1\n",
      "Writing outputs ...\n"
     ]
    },
    {
     "name": "stderr",
     "output_type": "stream",
     "text": [
      "No handles with labels found to put in legend.\n"
     ]
    },
    {
     "name": "stdout",
     "output_type": "stream",
     "text": [
      "Running IDP 85 rh_G_front_inf-Opercular_thickness :\n",
      "Making predictions with dummy covariates (for visualisation)\n",
      "Loading data ...\n",
      "Prediction by model  1 of 1\n",
      "Writing outputs ...\n"
     ]
    },
    {
     "name": "stderr",
     "output_type": "stream",
     "text": [
      "No handles with labels found to put in legend.\n"
     ]
    },
    {
     "name": "stdout",
     "output_type": "stream",
     "text": [
      "Running IDP 86 rh_G_front_inf-Orbital_thickness :\n",
      "Making predictions with dummy covariates (for visualisation)\n",
      "Loading data ...\n",
      "Prediction by model  1 of 1\n",
      "Writing outputs ...\n"
     ]
    },
    {
     "name": "stderr",
     "output_type": "stream",
     "text": [
      "No handles with labels found to put in legend.\n"
     ]
    },
    {
     "name": "stdout",
     "output_type": "stream",
     "text": [
      "Running IDP 87 rh_G_front_inf-Triangul_thickness :\n",
      "Making predictions with dummy covariates (for visualisation)\n",
      "Loading data ...\n",
      "Prediction by model  1 of 1\n",
      "Writing outputs ...\n"
     ]
    },
    {
     "name": "stderr",
     "output_type": "stream",
     "text": [
      "No handles with labels found to put in legend.\n"
     ]
    },
    {
     "name": "stdout",
     "output_type": "stream",
     "text": [
      "Running IDP 88 rh_G_front_middle_thickness :\n",
      "Making predictions with dummy covariates (for visualisation)\n",
      "Loading data ...\n",
      "Prediction by model  1 of 1\n",
      "Writing outputs ...\n"
     ]
    },
    {
     "name": "stderr",
     "output_type": "stream",
     "text": [
      "No handles with labels found to put in legend.\n"
     ]
    },
    {
     "name": "stdout",
     "output_type": "stream",
     "text": [
      "Running IDP 89 rh_G_front_sup_thickness :\n",
      "Making predictions with dummy covariates (for visualisation)\n",
      "Loading data ...\n",
      "Prediction by model  1 of 1\n",
      "Writing outputs ...\n"
     ]
    },
    {
     "name": "stderr",
     "output_type": "stream",
     "text": [
      "No handles with labels found to put in legend.\n"
     ]
    },
    {
     "name": "stdout",
     "output_type": "stream",
     "text": [
      "Running IDP 90 rh_G_Ins_lg&S_cent_ins_thickness :\n",
      "Making predictions with dummy covariates (for visualisation)\n",
      "Loading data ...\n",
      "Prediction by model  1 of 1\n",
      "Writing outputs ...\n"
     ]
    },
    {
     "name": "stderr",
     "output_type": "stream",
     "text": [
      "No handles with labels found to put in legend.\n"
     ]
    },
    {
     "name": "stdout",
     "output_type": "stream",
     "text": [
      "Running IDP 91 rh_G_insular_short_thickness :\n",
      "Making predictions with dummy covariates (for visualisation)\n",
      "Loading data ...\n",
      "Prediction by model  1 of 1\n",
      "Writing outputs ...\n"
     ]
    },
    {
     "name": "stderr",
     "output_type": "stream",
     "text": [
      "No handles with labels found to put in legend.\n"
     ]
    },
    {
     "name": "stdout",
     "output_type": "stream",
     "text": [
      "Running IDP 92 rh_G_occipital_middle_thickness :\n",
      "Making predictions with dummy covariates (for visualisation)\n",
      "Loading data ...\n",
      "Prediction by model  1 of 1\n",
      "Writing outputs ...\n"
     ]
    },
    {
     "name": "stderr",
     "output_type": "stream",
     "text": [
      "No handles with labels found to put in legend.\n"
     ]
    },
    {
     "name": "stdout",
     "output_type": "stream",
     "text": [
      "Running IDP 93 rh_G_occipital_sup_thickness :\n",
      "Making predictions with dummy covariates (for visualisation)\n",
      "Loading data ...\n",
      "Prediction by model  1 of 1\n",
      "Writing outputs ...\n"
     ]
    },
    {
     "name": "stderr",
     "output_type": "stream",
     "text": [
      "No handles with labels found to put in legend.\n"
     ]
    },
    {
     "name": "stdout",
     "output_type": "stream",
     "text": [
      "Running IDP 94 rh_G_oc-temp_lat-fusifor_thickness :\n",
      "Making predictions with dummy covariates (for visualisation)\n",
      "Loading data ...\n",
      "Prediction by model  1 of 1\n",
      "Writing outputs ...\n"
     ]
    },
    {
     "name": "stderr",
     "output_type": "stream",
     "text": [
      "No handles with labels found to put in legend.\n"
     ]
    },
    {
     "name": "stdout",
     "output_type": "stream",
     "text": [
      "Running IDP 95 rh_G_oc-temp_med-Lingual_thickness :\n",
      "Making predictions with dummy covariates (for visualisation)\n",
      "Loading data ...\n",
      "Prediction by model  1 of 1\n",
      "Writing outputs ...\n"
     ]
    },
    {
     "name": "stderr",
     "output_type": "stream",
     "text": [
      "No handles with labels found to put in legend.\n"
     ]
    },
    {
     "name": "stdout",
     "output_type": "stream",
     "text": [
      "Running IDP 96 rh_G_oc-temp_med-Parahip_thickness :\n",
      "Making predictions with dummy covariates (for visualisation)\n",
      "Loading data ...\n",
      "Prediction by model  1 of 1\n",
      "Writing outputs ...\n"
     ]
    },
    {
     "name": "stderr",
     "output_type": "stream",
     "text": [
      "No handles with labels found to put in legend.\n"
     ]
    },
    {
     "name": "stdout",
     "output_type": "stream",
     "text": [
      "Running IDP 97 rh_G_orbital_thickness :\n",
      "Making predictions with dummy covariates (for visualisation)\n",
      "Loading data ...\n",
      "Prediction by model  1 of 1\n",
      "Writing outputs ...\n"
     ]
    },
    {
     "name": "stderr",
     "output_type": "stream",
     "text": [
      "No handles with labels found to put in legend.\n"
     ]
    },
    {
     "name": "stdout",
     "output_type": "stream",
     "text": [
      "Running IDP 98 rh_G_pariet_inf-Angular_thickness :\n",
      "Making predictions with dummy covariates (for visualisation)\n",
      "Loading data ...\n",
      "Prediction by model  1 of 1\n",
      "Writing outputs ...\n"
     ]
    },
    {
     "name": "stderr",
     "output_type": "stream",
     "text": [
      "No handles with labels found to put in legend.\n"
     ]
    },
    {
     "name": "stdout",
     "output_type": "stream",
     "text": [
      "Running IDP 99 rh_G_pariet_inf-Supramar_thickness :\n",
      "Making predictions with dummy covariates (for visualisation)\n",
      "Loading data ...\n",
      "Prediction by model  1 of 1\n",
      "Writing outputs ...\n"
     ]
    },
    {
     "name": "stderr",
     "output_type": "stream",
     "text": [
      "No handles with labels found to put in legend.\n"
     ]
    },
    {
     "name": "stdout",
     "output_type": "stream",
     "text": [
      "Running IDP 100 rh_G_parietal_sup_thickness :\n",
      "Making predictions with dummy covariates (for visualisation)\n",
      "Loading data ...\n",
      "Prediction by model  1 of 1\n",
      "Writing outputs ...\n"
     ]
    },
    {
     "name": "stderr",
     "output_type": "stream",
     "text": [
      "No handles with labels found to put in legend.\n"
     ]
    },
    {
     "name": "stdout",
     "output_type": "stream",
     "text": [
      "Running IDP 101 rh_G_postcentral_thickness :\n",
      "Making predictions with dummy covariates (for visualisation)\n",
      "Loading data ...\n",
      "Prediction by model  1 of 1\n",
      "Writing outputs ...\n"
     ]
    },
    {
     "name": "stderr",
     "output_type": "stream",
     "text": [
      "No handles with labels found to put in legend.\n"
     ]
    },
    {
     "name": "stdout",
     "output_type": "stream",
     "text": [
      "Running IDP 102 rh_G_precentral_thickness :\n",
      "Making predictions with dummy covariates (for visualisation)\n",
      "Loading data ...\n",
      "Prediction by model  1 of 1\n",
      "Writing outputs ...\n"
     ]
    },
    {
     "name": "stderr",
     "output_type": "stream",
     "text": [
      "No handles with labels found to put in legend.\n"
     ]
    },
    {
     "name": "stdout",
     "output_type": "stream",
     "text": [
      "Running IDP 103 rh_G_precuneus_thickness :\n",
      "Making predictions with dummy covariates (for visualisation)\n",
      "Loading data ...\n",
      "Prediction by model  1 of 1\n",
      "Writing outputs ...\n"
     ]
    },
    {
     "name": "stderr",
     "output_type": "stream",
     "text": [
      "No handles with labels found to put in legend.\n"
     ]
    },
    {
     "name": "stdout",
     "output_type": "stream",
     "text": [
      "Running IDP 104 rh_G_rectus_thickness :\n",
      "Making predictions with dummy covariates (for visualisation)\n",
      "Loading data ...\n",
      "Prediction by model  1 of 1\n",
      "Writing outputs ...\n"
     ]
    },
    {
     "name": "stderr",
     "output_type": "stream",
     "text": [
      "No handles with labels found to put in legend.\n"
     ]
    },
    {
     "name": "stdout",
     "output_type": "stream",
     "text": [
      "Running IDP 105 rh_G_subcallosal_thickness :\n",
      "Making predictions with dummy covariates (for visualisation)\n",
      "Loading data ...\n",
      "Prediction by model  1 of 1\n",
      "Writing outputs ...\n"
     ]
    },
    {
     "name": "stderr",
     "output_type": "stream",
     "text": [
      "No handles with labels found to put in legend.\n"
     ]
    },
    {
     "name": "stdout",
     "output_type": "stream",
     "text": [
      "Running IDP 106 rh_G_temp_sup-G_T_transv_thickness :\n",
      "Making predictions with dummy covariates (for visualisation)\n",
      "Loading data ...\n",
      "Prediction by model  1 of 1\n",
      "Writing outputs ...\n"
     ]
    },
    {
     "name": "stderr",
     "output_type": "stream",
     "text": [
      "No handles with labels found to put in legend.\n"
     ]
    },
    {
     "name": "stdout",
     "output_type": "stream",
     "text": [
      "Running IDP 107 rh_G_temp_sup-Lateral_thickness :\n",
      "Making predictions with dummy covariates (for visualisation)\n",
      "Loading data ...\n",
      "Prediction by model  1 of 1\n",
      "Writing outputs ...\n",
      "Running IDP 108 rh_G_temp_sup-Plan_polar_thickness :\n",
      "Making predictions with dummy covariates (for visualisation)\n",
      "Loading data ...\n",
      "Prediction by model  1 of 1\n",
      "Writing outputs ...\n"
     ]
    },
    {
     "name": "stderr",
     "output_type": "stream",
     "text": [
      "No handles with labels found to put in legend.\n",
      "No handles with labels found to put in legend.\n"
     ]
    },
    {
     "name": "stdout",
     "output_type": "stream",
     "text": [
      "Running IDP 109 rh_G_temp_sup-Plan_tempo_thickness :\n",
      "Making predictions with dummy covariates (for visualisation)\n",
      "Loading data ...\n",
      "Prediction by model  1 of 1\n",
      "Writing outputs ...\n"
     ]
    },
    {
     "name": "stderr",
     "output_type": "stream",
     "text": [
      "No handles with labels found to put in legend.\n"
     ]
    },
    {
     "name": "stdout",
     "output_type": "stream",
     "text": [
      "Running IDP 110 rh_G_temporal_inf_thickness :\n",
      "Making predictions with dummy covariates (for visualisation)\n",
      "Loading data ...\n",
      "Prediction by model  1 of 1\n",
      "Writing outputs ...\n"
     ]
    },
    {
     "name": "stderr",
     "output_type": "stream",
     "text": [
      "No handles with labels found to put in legend.\n"
     ]
    },
    {
     "name": "stdout",
     "output_type": "stream",
     "text": [
      "Running IDP 111 rh_G_temporal_middle_thickness :\n",
      "Making predictions with dummy covariates (for visualisation)\n",
      "Loading data ...\n",
      "Prediction by model  1 of 1\n",
      "Writing outputs ...\n"
     ]
    },
    {
     "name": "stderr",
     "output_type": "stream",
     "text": [
      "No handles with labels found to put in legend.\n"
     ]
    },
    {
     "name": "stdout",
     "output_type": "stream",
     "text": [
      "Running IDP 112 rh_Lat_Fis-ant-Horizont_thickness :\n",
      "Making predictions with dummy covariates (for visualisation)\n",
      "Loading data ...\n",
      "Prediction by model  1 of 1\n",
      "Writing outputs ...\n"
     ]
    },
    {
     "name": "stderr",
     "output_type": "stream",
     "text": [
      "No handles with labels found to put in legend.\n"
     ]
    },
    {
     "name": "stdout",
     "output_type": "stream",
     "text": [
      "Running IDP 113 rh_Lat_Fis-ant-Vertical_thickness :\n",
      "Making predictions with dummy covariates (for visualisation)\n",
      "Loading data ...\n",
      "Prediction by model  1 of 1\n",
      "Writing outputs ...\n"
     ]
    },
    {
     "name": "stderr",
     "output_type": "stream",
     "text": [
      "No handles with labels found to put in legend.\n"
     ]
    },
    {
     "name": "stdout",
     "output_type": "stream",
     "text": [
      "Running IDP 114 rh_Lat_Fis-post_thickness :\n",
      "Making predictions with dummy covariates (for visualisation)\n",
      "Loading data ...\n",
      "Prediction by model  1 of 1\n",
      "Writing outputs ...\n"
     ]
    },
    {
     "name": "stderr",
     "output_type": "stream",
     "text": [
      "No handles with labels found to put in legend.\n"
     ]
    },
    {
     "name": "stdout",
     "output_type": "stream",
     "text": [
      "Running IDP 115 rh_Pole_occipital_thickness :\n",
      "Making predictions with dummy covariates (for visualisation)\n",
      "Loading data ...\n",
      "Prediction by model  1 of 1\n",
      "Writing outputs ...\n"
     ]
    },
    {
     "name": "stderr",
     "output_type": "stream",
     "text": [
      "No handles with labels found to put in legend.\n"
     ]
    },
    {
     "name": "stdout",
     "output_type": "stream",
     "text": [
      "Running IDP 116 rh_Pole_temporal_thickness :\n",
      "Making predictions with dummy covariates (for visualisation)\n",
      "Loading data ...\n",
      "Prediction by model  1 of 1\n",
      "Writing outputs ...\n"
     ]
    },
    {
     "name": "stderr",
     "output_type": "stream",
     "text": [
      "No handles with labels found to put in legend.\n"
     ]
    },
    {
     "name": "stdout",
     "output_type": "stream",
     "text": [
      "Running IDP 117 rh_S_calcarine_thickness :\n",
      "Making predictions with dummy covariates (for visualisation)\n",
      "Loading data ...\n",
      "Prediction by model  1 of 1\n",
      "Writing outputs ...\n"
     ]
    },
    {
     "name": "stderr",
     "output_type": "stream",
     "text": [
      "No handles with labels found to put in legend.\n"
     ]
    },
    {
     "name": "stdout",
     "output_type": "stream",
     "text": [
      "Running IDP 118 rh_S_central_thickness :\n",
      "Making predictions with dummy covariates (for visualisation)\n",
      "Loading data ...\n",
      "Prediction by model  1 of 1\n",
      "Writing outputs ...\n"
     ]
    },
    {
     "name": "stderr",
     "output_type": "stream",
     "text": [
      "No handles with labels found to put in legend.\n"
     ]
    },
    {
     "name": "stdout",
     "output_type": "stream",
     "text": [
      "Running IDP 119 rh_S_cingul-Marginalis_thickness :\n",
      "Making predictions with dummy covariates (for visualisation)\n",
      "Loading data ...\n",
      "Prediction by model  1 of 1\n",
      "Writing outputs ...\n"
     ]
    },
    {
     "name": "stderr",
     "output_type": "stream",
     "text": [
      "No handles with labels found to put in legend.\n"
     ]
    },
    {
     "name": "stdout",
     "output_type": "stream",
     "text": [
      "Running IDP 120 rh_S_circular_insula_ant_thickness :\n",
      "Making predictions with dummy covariates (for visualisation)\n",
      "Loading data ...\n",
      "Prediction by model  1 of 1\n",
      "Writing outputs ...\n"
     ]
    },
    {
     "name": "stderr",
     "output_type": "stream",
     "text": [
      "No handles with labels found to put in legend.\n"
     ]
    },
    {
     "name": "stdout",
     "output_type": "stream",
     "text": [
      "Running IDP 121 rh_S_circular_insula_inf_thickness :\n",
      "Making predictions with dummy covariates (for visualisation)\n",
      "Loading data ...\n",
      "Prediction by model  1 of 1\n",
      "Writing outputs ...\n"
     ]
    },
    {
     "name": "stderr",
     "output_type": "stream",
     "text": [
      "No handles with labels found to put in legend.\n"
     ]
    },
    {
     "name": "stdout",
     "output_type": "stream",
     "text": [
      "Running IDP 122 rh_S_circular_insula_sup_thickness :\n",
      "Making predictions with dummy covariates (for visualisation)\n",
      "Loading data ...\n",
      "Prediction by model  1 of 1\n",
      "Writing outputs ...\n"
     ]
    },
    {
     "name": "stderr",
     "output_type": "stream",
     "text": [
      "No handles with labels found to put in legend.\n"
     ]
    },
    {
     "name": "stdout",
     "output_type": "stream",
     "text": [
      "Running IDP 123 rh_S_collat_transv_ant_thickness :\n",
      "Making predictions with dummy covariates (for visualisation)\n",
      "Loading data ...\n",
      "Prediction by model  1 of 1\n",
      "Writing outputs ...\n"
     ]
    },
    {
     "name": "stderr",
     "output_type": "stream",
     "text": [
      "No handles with labels found to put in legend.\n"
     ]
    },
    {
     "name": "stdout",
     "output_type": "stream",
     "text": [
      "Running IDP 124 rh_S_collat_transv_post_thickness :\n",
      "Making predictions with dummy covariates (for visualisation)\n",
      "Loading data ...\n",
      "Prediction by model  1 of 1\n",
      "Writing outputs ...\n"
     ]
    },
    {
     "name": "stderr",
     "output_type": "stream",
     "text": [
      "No handles with labels found to put in legend.\n"
     ]
    },
    {
     "name": "stdout",
     "output_type": "stream",
     "text": [
      "Running IDP 125 rh_S_front_inf_thickness :\n",
      "Making predictions with dummy covariates (for visualisation)\n",
      "Loading data ...\n",
      "Prediction by model  1 of 1\n",
      "Writing outputs ...\n"
     ]
    },
    {
     "name": "stderr",
     "output_type": "stream",
     "text": [
      "No handles with labels found to put in legend.\n"
     ]
    },
    {
     "name": "stdout",
     "output_type": "stream",
     "text": [
      "Running IDP 126 rh_S_front_middle_thickness :\n",
      "Making predictions with dummy covariates (for visualisation)\n",
      "Loading data ...\n",
      "Prediction by model  1 of 1\n",
      "Writing outputs ...\n"
     ]
    },
    {
     "name": "stderr",
     "output_type": "stream",
     "text": [
      "No handles with labels found to put in legend.\n"
     ]
    },
    {
     "name": "stdout",
     "output_type": "stream",
     "text": [
      "Running IDP 127 rh_S_front_sup_thickness :\n",
      "Making predictions with dummy covariates (for visualisation)\n",
      "Loading data ...\n",
      "Prediction by model  1 of 1\n",
      "Writing outputs ...\n"
     ]
    },
    {
     "name": "stderr",
     "output_type": "stream",
     "text": [
      "No handles with labels found to put in legend.\n"
     ]
    },
    {
     "name": "stdout",
     "output_type": "stream",
     "text": [
      "Running IDP 128 rh_S_interm_prim-Jensen_thickness :\n",
      "Making predictions with dummy covariates (for visualisation)\n",
      "Loading data ...\n",
      "Prediction by model  1 of 1\n",
      "Writing outputs ...\n"
     ]
    },
    {
     "name": "stderr",
     "output_type": "stream",
     "text": [
      "No handles with labels found to put in legend.\n"
     ]
    },
    {
     "name": "stdout",
     "output_type": "stream",
     "text": [
      "Running IDP 129 rh_S_intrapariet&P_trans_thickness :\n",
      "Making predictions with dummy covariates (for visualisation)\n",
      "Loading data ...\n",
      "Prediction by model  1 of 1\n",
      "Writing outputs ...\n"
     ]
    },
    {
     "name": "stderr",
     "output_type": "stream",
     "text": [
      "No handles with labels found to put in legend.\n"
     ]
    },
    {
     "name": "stdout",
     "output_type": "stream",
     "text": [
      "Running IDP 130 rh_S_oc_middle&Lunatus_thickness :\n",
      "Making predictions with dummy covariates (for visualisation)\n",
      "Loading data ...\n",
      "Prediction by model  1 of 1\n",
      "Writing outputs ...\n"
     ]
    },
    {
     "name": "stderr",
     "output_type": "stream",
     "text": [
      "No handles with labels found to put in legend.\n"
     ]
    },
    {
     "name": "stdout",
     "output_type": "stream",
     "text": [
      "Running IDP 131 rh_S_oc_sup&transversal_thickness :\n",
      "Making predictions with dummy covariates (for visualisation)\n",
      "Loading data ...\n",
      "Prediction by model  1 of 1\n",
      "Writing outputs ...\n"
     ]
    },
    {
     "name": "stderr",
     "output_type": "stream",
     "text": [
      "No handles with labels found to put in legend.\n"
     ]
    },
    {
     "name": "stdout",
     "output_type": "stream",
     "text": [
      "Running IDP 132 rh_S_occipital_ant_thickness :\n",
      "Making predictions with dummy covariates (for visualisation)\n",
      "Loading data ...\n",
      "Prediction by model  1 of 1\n",
      "Writing outputs ...\n"
     ]
    },
    {
     "name": "stderr",
     "output_type": "stream",
     "text": [
      "No handles with labels found to put in legend.\n"
     ]
    },
    {
     "name": "stdout",
     "output_type": "stream",
     "text": [
      "Running IDP 133 rh_S_oc-temp_lat_thickness :\n",
      "Making predictions with dummy covariates (for visualisation)\n",
      "Loading data ...\n",
      "Prediction by model  1 of 1\n",
      "Writing outputs ...\n"
     ]
    },
    {
     "name": "stderr",
     "output_type": "stream",
     "text": [
      "No handles with labels found to put in legend.\n"
     ]
    },
    {
     "name": "stdout",
     "output_type": "stream",
     "text": [
      "Running IDP 134 rh_S_oc-temp_med&Lingual_thickness :\n",
      "Making predictions with dummy covariates (for visualisation)\n",
      "Loading data ...\n",
      "Prediction by model  1 of 1\n",
      "Writing outputs ...\n"
     ]
    },
    {
     "name": "stderr",
     "output_type": "stream",
     "text": [
      "No handles with labels found to put in legend.\n"
     ]
    },
    {
     "name": "stdout",
     "output_type": "stream",
     "text": [
      "Running IDP 135 rh_S_orbital_lateral_thickness :\n",
      "Making predictions with dummy covariates (for visualisation)\n",
      "Loading data ...\n",
      "Prediction by model  1 of 1\n",
      "Writing outputs ...\n"
     ]
    },
    {
     "name": "stderr",
     "output_type": "stream",
     "text": [
      "No handles with labels found to put in legend.\n"
     ]
    },
    {
     "name": "stdout",
     "output_type": "stream",
     "text": [
      "Running IDP 136 rh_S_orbital_med-olfact_thickness :\n",
      "Making predictions with dummy covariates (for visualisation)\n",
      "Loading data ...\n",
      "Prediction by model  1 of 1\n",
      "Writing outputs ...\n"
     ]
    },
    {
     "name": "stderr",
     "output_type": "stream",
     "text": [
      "No handles with labels found to put in legend.\n"
     ]
    },
    {
     "name": "stdout",
     "output_type": "stream",
     "text": [
      "Running IDP 137 rh_S_orbital-H_Shaped_thickness :\n",
      "Making predictions with dummy covariates (for visualisation)\n",
      "Loading data ...\n",
      "Prediction by model  1 of 1\n",
      "Writing outputs ...\n"
     ]
    },
    {
     "name": "stderr",
     "output_type": "stream",
     "text": [
      "No handles with labels found to put in legend.\n"
     ]
    },
    {
     "name": "stdout",
     "output_type": "stream",
     "text": [
      "Running IDP 138 rh_S_parieto_occipital_thickness :\n",
      "Making predictions with dummy covariates (for visualisation)\n",
      "Loading data ...\n",
      "Prediction by model  1 of 1\n",
      "Writing outputs ...\n"
     ]
    },
    {
     "name": "stderr",
     "output_type": "stream",
     "text": [
      "No handles with labels found to put in legend.\n"
     ]
    },
    {
     "name": "stdout",
     "output_type": "stream",
     "text": [
      "Running IDP 139 rh_S_pericallosal_thickness :\n",
      "Making predictions with dummy covariates (for visualisation)\n",
      "Loading data ...\n",
      "Prediction by model  1 of 1\n",
      "Writing outputs ...\n"
     ]
    },
    {
     "name": "stderr",
     "output_type": "stream",
     "text": [
      "No handles with labels found to put in legend.\n"
     ]
    },
    {
     "name": "stdout",
     "output_type": "stream",
     "text": [
      "Running IDP 140 rh_S_postcentral_thickness :\n",
      "Making predictions with dummy covariates (for visualisation)\n",
      "Loading data ...\n",
      "Prediction by model  1 of 1\n",
      "Writing outputs ...\n"
     ]
    },
    {
     "name": "stderr",
     "output_type": "stream",
     "text": [
      "No handles with labels found to put in legend.\n"
     ]
    },
    {
     "name": "stdout",
     "output_type": "stream",
     "text": [
      "Running IDP 141 rh_S_precentral-inf-part_thickness :\n",
      "Making predictions with dummy covariates (for visualisation)\n",
      "Loading data ...\n",
      "Prediction by model  1 of 1\n",
      "Writing outputs ...\n",
      "Running IDP 142 rh_S_precentral-sup-part_thickness :\n",
      "Making predictions with dummy covariates (for visualisation)\n",
      "Loading data ...\n",
      "Prediction by model  1 of 1\n",
      "Writing outputs ...\n"
     ]
    },
    {
     "name": "stderr",
     "output_type": "stream",
     "text": [
      "No handles with labels found to put in legend.\n",
      "No handles with labels found to put in legend.\n"
     ]
    },
    {
     "name": "stdout",
     "output_type": "stream",
     "text": [
      "Running IDP 143 rh_S_suborbital_thickness :\n",
      "Making predictions with dummy covariates (for visualisation)\n",
      "Loading data ...\n",
      "Prediction by model  1 of 1\n",
      "Writing outputs ...\n"
     ]
    },
    {
     "name": "stderr",
     "output_type": "stream",
     "text": [
      "No handles with labels found to put in legend.\n"
     ]
    },
    {
     "name": "stdout",
     "output_type": "stream",
     "text": [
      "Running IDP 144 rh_S_subparietal_thickness :\n",
      "Making predictions with dummy covariates (for visualisation)\n",
      "Loading data ...\n",
      "Prediction by model  1 of 1\n",
      "Writing outputs ...\n"
     ]
    },
    {
     "name": "stderr",
     "output_type": "stream",
     "text": [
      "No handles with labels found to put in legend.\n"
     ]
    },
    {
     "name": "stdout",
     "output_type": "stream",
     "text": [
      "Running IDP 145 rh_S_temporal_inf_thickness :\n",
      "Making predictions with dummy covariates (for visualisation)\n",
      "Loading data ...\n",
      "Prediction by model  1 of 1\n",
      "Writing outputs ...\n"
     ]
    },
    {
     "name": "stderr",
     "output_type": "stream",
     "text": [
      "No handles with labels found to put in legend.\n"
     ]
    },
    {
     "name": "stdout",
     "output_type": "stream",
     "text": [
      "Running IDP 146 rh_S_temporal_sup_thickness :\n",
      "Making predictions with dummy covariates (for visualisation)\n",
      "Loading data ...\n",
      "Prediction by model  1 of 1\n",
      "Writing outputs ...\n"
     ]
    },
    {
     "name": "stderr",
     "output_type": "stream",
     "text": [
      "No handles with labels found to put in legend.\n"
     ]
    },
    {
     "name": "stdout",
     "output_type": "stream",
     "text": [
      "Running IDP 147 rh_S_temporal_transverse_thickness :\n",
      "Making predictions with dummy covariates (for visualisation)\n",
      "Loading data ...\n",
      "Prediction by model  1 of 1\n",
      "Writing outputs ...\n"
     ]
    },
    {
     "name": "stderr",
     "output_type": "stream",
     "text": [
      "No handles with labels found to put in legend.\n"
     ]
    },
    {
     "name": "stdout",
     "output_type": "stream",
     "text": [
      "Running IDP 148 Left-Lateral-Ventricle :\n",
      "Making predictions with dummy covariates (for visualisation)\n",
      "Loading data ...\n",
      "Prediction by model  1 of 1\n",
      "Writing outputs ...\n"
     ]
    },
    {
     "name": "stderr",
     "output_type": "stream",
     "text": [
      "No handles with labels found to put in legend.\n"
     ]
    },
    {
     "name": "stdout",
     "output_type": "stream",
     "text": [
      "Running IDP 149 Left-Inf-Lat-Vent :\n",
      "Making predictions with dummy covariates (for visualisation)\n",
      "Loading data ...\n",
      "Prediction by model  1 of 1\n",
      "Writing outputs ...\n"
     ]
    },
    {
     "name": "stderr",
     "output_type": "stream",
     "text": [
      "No handles with labels found to put in legend.\n"
     ]
    },
    {
     "name": "stdout",
     "output_type": "stream",
     "text": [
      "Running IDP 150 Left-Cerebellum-White-Matter :\n",
      "Making predictions with dummy covariates (for visualisation)\n",
      "Loading data ...\n",
      "Prediction by model  1 of 1\n",
      "Writing outputs ...\n"
     ]
    },
    {
     "name": "stderr",
     "output_type": "stream",
     "text": [
      "No handles with labels found to put in legend.\n"
     ]
    },
    {
     "name": "stdout",
     "output_type": "stream",
     "text": [
      "Running IDP 151 Left-Cerebellum-Cortex :\n",
      "Making predictions with dummy covariates (for visualisation)\n",
      "Loading data ...\n",
      "Prediction by model  1 of 1\n",
      "Writing outputs ...\n"
     ]
    },
    {
     "name": "stderr",
     "output_type": "stream",
     "text": [
      "No handles with labels found to put in legend.\n"
     ]
    },
    {
     "name": "stdout",
     "output_type": "stream",
     "text": [
      "Running IDP 152 Left-Thalamus-Proper :\n",
      "Making predictions with dummy covariates (for visualisation)\n",
      "Loading data ...\n",
      "Prediction by model  1 of 1\n",
      "Writing outputs ...\n"
     ]
    },
    {
     "name": "stderr",
     "output_type": "stream",
     "text": [
      "No handles with labels found to put in legend.\n"
     ]
    },
    {
     "name": "stdout",
     "output_type": "stream",
     "text": [
      "Running IDP 153 Left-Caudate :\n",
      "Making predictions with dummy covariates (for visualisation)\n",
      "Loading data ...\n",
      "Prediction by model  1 of 1\n",
      "Writing outputs ...\n"
     ]
    },
    {
     "name": "stderr",
     "output_type": "stream",
     "text": [
      "No handles with labels found to put in legend.\n"
     ]
    },
    {
     "name": "stdout",
     "output_type": "stream",
     "text": [
      "Running IDP 154 Left-Putamen :\n",
      "Making predictions with dummy covariates (for visualisation)\n",
      "Loading data ...\n",
      "Prediction by model  1 of 1\n",
      "Writing outputs ...\n"
     ]
    },
    {
     "name": "stderr",
     "output_type": "stream",
     "text": [
      "No handles with labels found to put in legend.\n"
     ]
    },
    {
     "name": "stdout",
     "output_type": "stream",
     "text": [
      "Running IDP 155 Left-Pallidum :\n",
      "Making predictions with dummy covariates (for visualisation)\n",
      "Loading data ...\n",
      "Prediction by model  1 of 1\n",
      "Writing outputs ...\n"
     ]
    },
    {
     "name": "stderr",
     "output_type": "stream",
     "text": [
      "No handles with labels found to put in legend.\n"
     ]
    },
    {
     "name": "stdout",
     "output_type": "stream",
     "text": [
      "Running IDP 156 3rd-Ventricle :\n",
      "Making predictions with dummy covariates (for visualisation)\n",
      "Loading data ...\n",
      "Prediction by model  1 of 1\n",
      "Writing outputs ...\n"
     ]
    },
    {
     "name": "stderr",
     "output_type": "stream",
     "text": [
      "No handles with labels found to put in legend.\n"
     ]
    },
    {
     "name": "stdout",
     "output_type": "stream",
     "text": [
      "Running IDP 157 4th-Ventricle :\n",
      "Making predictions with dummy covariates (for visualisation)\n",
      "Loading data ...\n",
      "Prediction by model  1 of 1\n",
      "Writing outputs ...\n"
     ]
    },
    {
     "name": "stderr",
     "output_type": "stream",
     "text": [
      "No handles with labels found to put in legend.\n"
     ]
    },
    {
     "name": "stdout",
     "output_type": "stream",
     "text": [
      "Running IDP 158 Brain-Stem :\n",
      "Making predictions with dummy covariates (for visualisation)\n",
      "Loading data ...\n",
      "Prediction by model  1 of 1\n",
      "Writing outputs ...\n"
     ]
    },
    {
     "name": "stderr",
     "output_type": "stream",
     "text": [
      "No handles with labels found to put in legend.\n"
     ]
    },
    {
     "name": "stdout",
     "output_type": "stream",
     "text": [
      "Running IDP 159 Left-Hippocampus :\n",
      "Making predictions with dummy covariates (for visualisation)\n",
      "Loading data ...\n",
      "Prediction by model  1 of 1\n",
      "Writing outputs ...\n"
     ]
    },
    {
     "name": "stderr",
     "output_type": "stream",
     "text": [
      "No handles with labels found to put in legend.\n"
     ]
    },
    {
     "name": "stdout",
     "output_type": "stream",
     "text": [
      "Running IDP 160 Left-Amygdala :\n",
      "Making predictions with dummy covariates (for visualisation)\n",
      "Loading data ...\n",
      "Prediction by model  1 of 1\n",
      "Writing outputs ...\n"
     ]
    },
    {
     "name": "stderr",
     "output_type": "stream",
     "text": [
      "No handles with labels found to put in legend.\n"
     ]
    },
    {
     "name": "stdout",
     "output_type": "stream",
     "text": [
      "Running IDP 161 CSF :\n",
      "Making predictions with dummy covariates (for visualisation)\n",
      "Loading data ...\n",
      "Prediction by model  1 of 1\n",
      "Writing outputs ...\n"
     ]
    },
    {
     "name": "stderr",
     "output_type": "stream",
     "text": [
      "No handles with labels found to put in legend.\n"
     ]
    },
    {
     "name": "stdout",
     "output_type": "stream",
     "text": [
      "Running IDP 162 Left-Accumbens-area :\n",
      "Making predictions with dummy covariates (for visualisation)\n",
      "Loading data ...\n",
      "Prediction by model  1 of 1\n",
      "Writing outputs ...\n"
     ]
    },
    {
     "name": "stderr",
     "output_type": "stream",
     "text": [
      "No handles with labels found to put in legend.\n"
     ]
    },
    {
     "name": "stdout",
     "output_type": "stream",
     "text": [
      "Running IDP 163 Left-VentralDC :\n",
      "Making predictions with dummy covariates (for visualisation)\n",
      "Loading data ...\n",
      "Prediction by model  1 of 1\n",
      "Writing outputs ...\n"
     ]
    },
    {
     "name": "stderr",
     "output_type": "stream",
     "text": [
      "No handles with labels found to put in legend.\n"
     ]
    },
    {
     "name": "stdout",
     "output_type": "stream",
     "text": [
      "Running IDP 164 Left-vessel :\n",
      "Making predictions with dummy covariates (for visualisation)\n",
      "Loading data ...\n",
      "Prediction by model  1 of 1\n",
      "Writing outputs ...\n"
     ]
    },
    {
     "name": "stderr",
     "output_type": "stream",
     "text": [
      "No handles with labels found to put in legend.\n"
     ]
    },
    {
     "name": "stdout",
     "output_type": "stream",
     "text": [
      "Running IDP 165 Left-choroid-plexus :\n",
      "Making predictions with dummy covariates (for visualisation)\n",
      "Loading data ...\n",
      "Prediction by model  1 of 1\n",
      "Writing outputs ...\n"
     ]
    },
    {
     "name": "stderr",
     "output_type": "stream",
     "text": [
      "No handles with labels found to put in legend.\n"
     ]
    },
    {
     "name": "stdout",
     "output_type": "stream",
     "text": [
      "Running IDP 166 Right-Lateral-Ventricle :\n",
      "Making predictions with dummy covariates (for visualisation)\n",
      "Loading data ...\n",
      "Prediction by model  1 of 1\n",
      "Writing outputs ...\n"
     ]
    },
    {
     "name": "stderr",
     "output_type": "stream",
     "text": [
      "No handles with labels found to put in legend.\n"
     ]
    },
    {
     "name": "stdout",
     "output_type": "stream",
     "text": [
      "Running IDP 167 Right-Inf-Lat-Vent :\n",
      "Making predictions with dummy covariates (for visualisation)\n",
      "Loading data ...\n",
      "Prediction by model  1 of 1\n",
      "Writing outputs ...\n"
     ]
    },
    {
     "name": "stderr",
     "output_type": "stream",
     "text": [
      "No handles with labels found to put in legend.\n"
     ]
    },
    {
     "name": "stdout",
     "output_type": "stream",
     "text": [
      "Running IDP 168 Right-Cerebellum-White-Matter :\n",
      "Making predictions with dummy covariates (for visualisation)\n",
      "Loading data ...\n",
      "Prediction by model  1 of 1\n",
      "Writing outputs ...\n"
     ]
    },
    {
     "name": "stderr",
     "output_type": "stream",
     "text": [
      "No handles with labels found to put in legend.\n"
     ]
    },
    {
     "name": "stdout",
     "output_type": "stream",
     "text": [
      "Running IDP 169 Right-Cerebellum-Cortex :\n",
      "Making predictions with dummy covariates (for visualisation)\n",
      "Loading data ...\n",
      "Prediction by model  1 of 1\n",
      "Writing outputs ...\n"
     ]
    },
    {
     "name": "stderr",
     "output_type": "stream",
     "text": [
      "No handles with labels found to put in legend.\n"
     ]
    },
    {
     "name": "stdout",
     "output_type": "stream",
     "text": [
      "Running IDP 170 Right-Thalamus-Proper :\n",
      "Making predictions with dummy covariates (for visualisation)\n",
      "Loading data ...\n",
      "Prediction by model  1 of 1\n",
      "Writing outputs ...\n"
     ]
    },
    {
     "name": "stderr",
     "output_type": "stream",
     "text": [
      "No handles with labels found to put in legend.\n"
     ]
    },
    {
     "name": "stdout",
     "output_type": "stream",
     "text": [
      "Running IDP 171 Right-Caudate :\n",
      "Making predictions with dummy covariates (for visualisation)\n",
      "Loading data ...\n",
      "Prediction by model  1 of 1\n",
      "Writing outputs ...\n"
     ]
    },
    {
     "name": "stderr",
     "output_type": "stream",
     "text": [
      "No handles with labels found to put in legend.\n"
     ]
    },
    {
     "name": "stdout",
     "output_type": "stream",
     "text": [
      "Running IDP 172 Right-Putamen :\n",
      "Making predictions with dummy covariates (for visualisation)\n",
      "Loading data ...\n",
      "Prediction by model  1 of 1\n",
      "Writing outputs ...\n"
     ]
    },
    {
     "name": "stderr",
     "output_type": "stream",
     "text": [
      "No handles with labels found to put in legend.\n"
     ]
    },
    {
     "name": "stdout",
     "output_type": "stream",
     "text": [
      "Running IDP 173 Right-Pallidum :\n",
      "Making predictions with dummy covariates (for visualisation)\n",
      "Loading data ...\n",
      "Prediction by model  1 of 1\n",
      "Writing outputs ...\n"
     ]
    },
    {
     "name": "stderr",
     "output_type": "stream",
     "text": [
      "No handles with labels found to put in legend.\n"
     ]
    },
    {
     "name": "stdout",
     "output_type": "stream",
     "text": [
      "Running IDP 174 Right-Hippocampus :\n",
      "Making predictions with dummy covariates (for visualisation)\n",
      "Loading data ...\n",
      "Prediction by model  1 of 1\n",
      "Writing outputs ...\n"
     ]
    },
    {
     "name": "stderr",
     "output_type": "stream",
     "text": [
      "No handles with labels found to put in legend.\n"
     ]
    },
    {
     "name": "stdout",
     "output_type": "stream",
     "text": [
      "Running IDP 175 Right-Amygdala :\n",
      "Making predictions with dummy covariates (for visualisation)\n",
      "Loading data ...\n",
      "Prediction by model  1 of 1\n",
      "Writing outputs ...\n"
     ]
    },
    {
     "name": "stderr",
     "output_type": "stream",
     "text": [
      "No handles with labels found to put in legend.\n"
     ]
    },
    {
     "name": "stdout",
     "output_type": "stream",
     "text": [
      "Running IDP 176 Right-Accumbens-area :\n",
      "Making predictions with dummy covariates (for visualisation)\n",
      "Loading data ...\n",
      "Prediction by model  1 of 1\n",
      "Writing outputs ...\n"
     ]
    },
    {
     "name": "stderr",
     "output_type": "stream",
     "text": [
      "No handles with labels found to put in legend.\n"
     ]
    },
    {
     "name": "stdout",
     "output_type": "stream",
     "text": [
      "Running IDP 177 Right-VentralDC :\n",
      "Making predictions with dummy covariates (for visualisation)\n",
      "Loading data ...\n",
      "Prediction by model  1 of 1\n",
      "Writing outputs ...\n"
     ]
    },
    {
     "name": "stderr",
     "output_type": "stream",
     "text": [
      "No handles with labels found to put in legend.\n"
     ]
    },
    {
     "name": "stdout",
     "output_type": "stream",
     "text": [
      "Running IDP 178 Right-vessel :\n",
      "Making predictions with dummy covariates (for visualisation)\n",
      "Loading data ...\n",
      "Prediction by model  1 of 1\n",
      "Writing outputs ...\n"
     ]
    },
    {
     "name": "stderr",
     "output_type": "stream",
     "text": [
      "No handles with labels found to put in legend.\n"
     ]
    },
    {
     "name": "stdout",
     "output_type": "stream",
     "text": [
      "Running IDP 179 Right-choroid-plexus :\n",
      "Making predictions with dummy covariates (for visualisation)\n",
      "Loading data ...\n",
      "Prediction by model  1 of 1\n",
      "Writing outputs ...\n"
     ]
    },
    {
     "name": "stderr",
     "output_type": "stream",
     "text": [
      "No handles with labels found to put in legend.\n"
     ]
    },
    {
     "name": "stdout",
     "output_type": "stream",
     "text": [
      "Running IDP 180 SubCortGrayVol :\n",
      "Making predictions with dummy covariates (for visualisation)\n",
      "Loading data ...\n",
      "Prediction by model  1 of 1\n",
      "Writing outputs ...\n"
     ]
    },
    {
     "name": "stderr",
     "output_type": "stream",
     "text": [
      "No handles with labels found to put in legend.\n"
     ]
    },
    {
     "name": "stdout",
     "output_type": "stream",
     "text": [
      "Running IDP 181 TotalGrayVol :\n",
      "Making predictions with dummy covariates (for visualisation)\n",
      "Loading data ...\n",
      "Prediction by model  1 of 1\n",
      "Writing outputs ...\n"
     ]
    },
    {
     "name": "stderr",
     "output_type": "stream",
     "text": [
      "No handles with labels found to put in legend.\n"
     ]
    },
    {
     "name": "stdout",
     "output_type": "stream",
     "text": [
      "Running IDP 182 SupraTentorialVol :\n",
      "Making predictions with dummy covariates (for visualisation)\n",
      "Loading data ...\n",
      "Prediction by model  1 of 1\n",
      "Writing outputs ...\n"
     ]
    },
    {
     "name": "stderr",
     "output_type": "stream",
     "text": [
      "No handles with labels found to put in legend.\n"
     ]
    },
    {
     "name": "stdout",
     "output_type": "stream",
     "text": [
      "Running IDP 183 SupraTentorialVolNotVent :\n",
      "Making predictions with dummy covariates (for visualisation)\n",
      "Loading data ...\n",
      "Prediction by model  1 of 1\n",
      "Writing outputs ...\n",
      "Running IDP 184 EstimatedTotalIntraCranialVol :\n",
      "Making predictions with dummy covariates (for visualisation)\n",
      "Loading data ...\n",
      "Prediction by model  1 of 1\n",
      "Writing outputs ...\n"
     ]
    },
    {
     "name": "stderr",
     "output_type": "stream",
     "text": [
      "No handles with labels found to put in legend.\n"
     ]
    }
   ],
   "source": [
    "###\n",
    "# Plotting longitudinal \"results\" of normative models\n",
    "###\n",
    "\n",
    "sns.set_style('whitegrid', {'legend.frameon':False})\n",
    "\n",
    "for idp_num, idp in  enumerate(idp_ids): #enumerate(['lh_G&S_frontomargin_thickness']):#enumerate(['Left-Inf-Lat-Vent']):#\n",
    "    print('Running IDP', idp_num, idp, ':')\n",
    "    idp_dir = os.path.join(pretrained_dir,'models',model_name, idp)\n",
    "    #idp_visit_dir = os.path.join(visit_dir,idp)\n",
    "    os.chdir(visit_dir)\n",
    "    \n",
    "    # load the true data points V1\n",
    "    v1_yhat_te = load_2d(os.path.join(visit_dir,'V1',idp, 'yhat_predict.txt'))\n",
    "    v1_s2_te = load_2d(os.path.join(visit_dir,'V1',idp, 'ys2_predict.txt'))\n",
    "    v1_y_te = load_2d(os.path.join(visit_dir,'V1',idp, 'resp_te.txt'))\n",
    "    v1_bspline = pd.DataFrame(load_2d(os.path.join(visit_dir,'V1',idp, 'cov_bspline_te.txt')))\n",
    "\n",
    "    # load the true data points V2\n",
    "    v2_yhat_te = load_2d(os.path.join(visit_dir,'V2',idp, 'yhat_predict.txt'))\n",
    "    v2_s2_te = load_2d(os.path.join(visit_dir,'V2',idp, 'ys2_predict.txt'))\n",
    "    v2_y_te = load_2d(os.path.join(visit_dir,'V2',idp, 'resp_te.txt'))\n",
    "    v2_bspline = pd.DataFrame(load_2d(os.path.join(visit_dir,'V2',idp, 'cov_bspline_te.txt')))\n",
    "\n",
    "    #########################################################################\n",
    "    # set up the covariates for the dummy data\n",
    "    print('Making predictions with dummy covariates (for visualisation)')\n",
    "    yhat, s2 = predict(cov_file_dummy, \n",
    "                       alg = 'blr', \n",
    "                       respfile = None, \n",
    "                       model_path = os.path.join(idp_dir,'Models'), \n",
    "                       outputsuffix = '_dummy')\n",
    "    \n",
    "    # load the normative model\n",
    "    with open(os.path.join(idp_dir,'Models', 'NM_0_0_estimate.pkl'), 'rb') as handle:\n",
    "        nm = pickle.load(handle) \n",
    "    \n",
    "    # get the warp and warp parameters\n",
    "    W = nm.blr.warp\n",
    "    warp_param = nm.blr.hyp[1:nm.blr.warp.get_n_params()+1] \n",
    "\n",
    "    # warp dummy predictions to create the plots\n",
    "    med, pr_int = W.warp_predictions(np.squeeze(yhat), np.squeeze(s2), warp_param)\n",
    "    \n",
    "    # extract the different variance components to visualise\n",
    "    beta, junk1, junk2 = nm.blr._parse_hyps(nm.blr.hyp, X_dummy)\n",
    "    s2n = 1/beta # variation (aleatoric uncertainty)\n",
    "    s2s = s2-s2n # modelling uncertainty (epistemic uncertainty)\n",
    "    #########################################################################\n",
    "\n",
    "    #  warp predictions for the true data and compute evaluation metrics\n",
    "    v1_med_te = W.warp_predictions(np.squeeze(v1_yhat_te), np.squeeze(v1_s2_te), warp_param)[0]\n",
    "    v1_med_te = v1_med_te[:, np.newaxis]\n",
    "\n",
    "    v2_med_te = W.warp_predictions(np.squeeze(v2_yhat_te), np.squeeze(v2_s2_te), warp_param)[0]\n",
    "    v2_med_te = v2_med_te[:, np.newaxis]\n",
    "\n",
    "    # load the adaptation data\n",
    "    y_ad = load_2d(os.path.join(visit_dir,'V1',idp, 'resp_ad.txt'))\n",
    "    X_ad = load_2d(os.path.join(visit_dir,'V1',idp, 'cov_bspline_ad.txt'))\n",
    "\n",
    "    # pick indicies for adaptation\n",
    "    idx_a = np.where(X_ad[:,2]==sex)[0] # sex index for adaptation set\n",
    "\n",
    "    v1_idx = np.where(v1_pat['sex'] == sex)[0]\n",
    "    v2_idx = np.where(v2_pat['sex'] == sex)[0]\n",
    "\n",
    "    # y_te = np.array([v1_y_te[v1_idx],v1_y_te[v1_idx]])\n",
    "\n",
    "    # adjust and rescale the data\n",
    "    v1_y_te_rescaled, v1_s2_rescaled = nm.blr.predict_and_adjust(nm.blr.hyp, \n",
    "                                                            X_ad[idx_a,:], \n",
    "                                                            np.squeeze(y_ad[idx_a]), \n",
    "                                                            Xs=None, \n",
    "                                                            ys=np.squeeze(v1_y_te[v1_idx]))\n",
    "    \n",
    "    v1_y_te_rescaled_f = os.path.join(visit_dir, 'V1', idp, 'v1_y_rescaled_common'+str(sex)+'.txt')\n",
    "    np.savetxt(v1_y_te_rescaled_f,v1_y_te_rescaled)\n",
    "\n",
    "    v2_y_te_rescaled, v2_s2_rescaled = nm.blr.predict_and_adjust(nm.blr.hyp, \n",
    "                                                            X_ad[idx_a,:], \n",
    "                                                            np.squeeze(y_ad[idx_a]), \n",
    "                                                            Xs=None, \n",
    "                                                            ys=np.squeeze(v2_y_te[v2_idx]))\n",
    "    \n",
    "    # save transformed predictions so that we don't have to sompute this ever again\n",
    "    v2_y_te_rescaled_f = os.path.join(visit_dir, 'V2', idp, 'v2_y_rescaled_common'+str(sex)+'.txt')\n",
    "    np.savetxt(v2_y_te_rescaled_f,v2_y_te_rescaled)\n",
    "\n",
    "    plt.figure(figsize=(8,6))\n",
    "\n",
    "    # plot the median of the dummy data\n",
    "    plt.plot(xx, med, clr)\n",
    "    \n",
    "    # fill the gaps in between the centiles\n",
    "    junk, pr_int25 = W.warp_predictions(np.squeeze(yhat), np.squeeze(s2), warp_param, percentiles=[0.25,0.75])\n",
    "    junk, pr_int95 = W.warp_predictions(np.squeeze(yhat), np.squeeze(s2), warp_param, percentiles=[0.05,0.95])\n",
    "    junk, pr_int99 = W.warp_predictions(np.squeeze(yhat), np.squeeze(s2), warp_param, percentiles=[0.01,0.99])\n",
    "    plt.fill_between(xx, pr_int25[:,0], pr_int25[:,1], alpha = 0.1,color=clr)\n",
    "    plt.fill_between(xx, pr_int95[:,0], pr_int95[:,1], alpha = 0.1,color=clr)\n",
    "    plt.fill_between(xx, pr_int99[:,0], pr_int99[:,1], alpha = 0.1,color=clr)\n",
    "            \n",
    "    # make the width of each centile proportional to the epistemic uncertainty\n",
    "    junk, pr_int25l = W.warp_predictions(np.squeeze(yhat), np.squeeze(s2-0.5*s2s), warp_param, percentiles=[0.25,0.75])\n",
    "    junk, pr_int95l = W.warp_predictions(np.squeeze(yhat), np.squeeze(s2-0.5*s2s), warp_param, percentiles=[0.05,0.95])\n",
    "    junk, pr_int99l = W.warp_predictions(np.squeeze(yhat), np.squeeze(s2-0.5*s2s), warp_param, percentiles=[0.01,0.99])\n",
    "    junk, pr_int25u = W.warp_predictions(np.squeeze(yhat), np.squeeze(s2+0.5*s2s), warp_param, percentiles=[0.25,0.75])\n",
    "    junk, pr_int95u = W.warp_predictions(np.squeeze(yhat), np.squeeze(s2+0.5*s2s), warp_param, percentiles=[0.05,0.95])\n",
    "    junk, pr_int99u = W.warp_predictions(np.squeeze(yhat), np.squeeze(s2+0.5*s2s), warp_param, percentiles=[0.01,0.99])    \n",
    "    plt.fill_between(xx, pr_int25l[:,0], pr_int25u[:,0], alpha = 0.3,color=clr)\n",
    "    plt.fill_between(xx, pr_int95l[:,0], pr_int95u[:,0], alpha = 0.3,color=clr)\n",
    "    plt.fill_between(xx, pr_int99l[:,0], pr_int99u[:,0], alpha = 0.3,color=clr)\n",
    "    plt.fill_between(xx, pr_int25l[:,1], pr_int25u[:,1], alpha = 0.3,color=clr)\n",
    "    plt.fill_between(xx, pr_int95l[:,1], pr_int95u[:,1], alpha = 0.3,color=clr)\n",
    "    plt.fill_between(xx, pr_int99l[:,1], pr_int99u[:,1], alpha = 0.3,color=clr)\n",
    "\n",
    "    # plot actual centile lines\n",
    "    plt.plot(xx, pr_int25[:,0],color=clr, linewidth=0.5)\n",
    "    plt.plot(xx, pr_int25[:,1],color=clr, linewidth=0.5)\n",
    "    plt.plot(xx, pr_int95[:,0],color=clr, linewidth=0.5)\n",
    "    plt.plot(xx, pr_int95[:,1],color=clr, linewidth=0.5)\n",
    "    plt.plot(xx, pr_int99[:,0],color=clr, linewidth=0.5)\n",
    "    plt.plot(xx, pr_int99[:,1],color=clr, linewidth=0.5)\n",
    "    \n",
    "    # plot the (adjusted) data points\n",
    "    v1_plot = v1_pat[v1_pat['sex']==sex]['age'].to_numpy()\n",
    "    v2_plot = v2_pat[v2_pat['sex']==sex]['age'].to_numpy()\n",
    "\n",
    "    # we need to differentiate between significant and unsignificant links for plotting\n",
    "    x_coords = np.concatenate((v1_plot[np.newaxis,:],v2_plot[np.newaxis,:]),axis=0)\n",
    "    y_coords = np.concatenate((v1_y_te_rescaled[np.newaxis,:],v2_y_te_rescaled[np.newaxis,:]),axis=0)\n",
    "\n",
    "    #x_coords_sig = x_coords[:,np.where(sig_to_plot[v1_pat['sex']==sex][idp]<0.05)[0]]\n",
    "    #x_coords_nsig = x_coords[:,np.where(~(sig_to_plot[v1_pat['sex']==sex][idp]<0.05))[0]]\n",
    "\n",
    "    #y_coords_sig = y_coords[:,np.where(sig_to_plot[v1_pat['sex']==sex][idp]<0.05)[0]]\n",
    "    #y_coords_nsig = y_coords[:,np.where(~(sig_to_plot[v1_pat['sex']==sex][idp]<0.05))[0]]\n",
    "\n",
    "    #plt.plot(x_coords_nsig, y_coords_nsig, color='lightcoral')\n",
    "    #plt.plot(x_coords_sig, y_coords_sig, color='goldenrod')\n",
    "\n",
    "    plt.plot(x_coords, y_coords, color=clr)\n",
    "    \n",
    "\n",
    "    #sig\n",
    "    #plt.scatter(x_coords_sig[0], y_coords_sig[0], color='goldenrod', label='Significant change between visits', alpha = 0.9)\n",
    "    #plt.scatter(x_coords_sig[1], y_coords_sig[1], color='goldenrod',  alpha = 0.9)\n",
    "    #notsig\n",
    "    #plt.scatter(x_coords_nsig[0], y_coords_nsig[0], color='lightcoral', label='Unsignificant change between visits', alpha = 0.9)\n",
    "    #plt.scatter(x_coords_nsig[1], y_coords_nsig[1], color='lightcoral',  alpha = 0.9)\n",
    "\n",
    "    plt.scatter(x_coords[0], y_coords[0], color=clr, alpha = 0.9)\n",
    "    plt.scatter(x_coords[1], y_coords[1], color=clr,  alpha = 0.9)\n",
    "\n",
    "    # only for OHBM\n",
    "    #plt.ylim((-10,1200))\n",
    "\n",
    "    plt.xlabel('Age')\n",
    "    plt.ylabel(idp) \n",
    "    plt.title(idp)\n",
    "    plt.xlim((10,50))\n",
    "    plt.legend()\n",
    "    \n",
    "    #plt.show()\n",
    "    plt.savefig(os.path.join(images_dir,idp+'_'+str(sex)+'.png'))\n",
    "    plt.close()\n",
    "    \n",
    "\n",
    "    \n",
    "    "
   ]
  },
  {
   "cell_type": "code",
   "execution_count": 118,
   "metadata": {},
   "outputs": [
    {
     "data": {
      "text/plain": [
       "array([34.17, 36.93, 32.26, 36.59, 32.36, 18.86, 42.94, 18.92, 45.06,\n",
       "       30.18, 23.69, 31.36, 25.68, 20.43, 23.21, 22.33, 18.6 , 39.27,\n",
       "       31.61, 35.83, 17.08, 27.42, 27.04, 17.36, 27.32, 35.79, 28.46,\n",
       "       24.89, 21.82, 22.27, 18.78, 27.78, 35.64, 19.37, 40.63, 21.95])"
      ]
     },
     "execution_count": 118,
     "metadata": {},
     "output_type": "execute_result"
    }
   ],
   "source": [
    "x_coords_sig[0]"
   ]
  },
  {
   "cell_type": "code",
   "execution_count": 70,
   "metadata": {},
   "outputs": [
    {
     "data": {
      "image/png": "[encoded data removed]",
      "text/plain": [
       "<Figure size 1080x360 with 4 Axes>"
      ]
     },
     "metadata": {},
     "output_type": "display_data"
    }
   ],
   "source": [
    "# Identifying controls with the high degree of variability\n",
    "# To help QC\n",
    "pk = np.array([np.sum(abs(v1_cont.iloc[:,col_comp_id]), axis=1).to_numpy().T, \n",
    "np.sum(abs(v2_cont.iloc[:,col_comp_id]), axis=1).to_numpy().T, \n",
    "np.sum(abs(v1_pat.iloc[:,col_comp_id]), axis=1).to_numpy().T,\n",
    "np.sum(abs(v2_pat.iloc[:,col_comp_id]), axis=1).to_numpy().T], dtype=object)\n",
    "\n",
    "fig, ax = plt.subplots(1,4, figsize = (15,5), sharey=True)\n",
    "ax[0].set_title('V1 controls')\n",
    "sns.histplot(pk[0], ax = ax[0], bins = 20)\n",
    "ax[1].set_title('V2 controls')\n",
    "sns.histplot(pk[1], ax = ax[1], bins = 20)\n",
    "ax[2].set_title('V1 patients')\n",
    "sns.histplot(pk[2], ax = ax[2], bins = 20)\n",
    "ax[3].set_title('V2 patients')\n",
    "sns.histplot(pk[3], ax = ax[3], bins = 20)\n",
    "\n",
    "fig.suptitle('Summed absolute z-scores over all IDPs')\n",
    "#sns.heatmap(v1_cont_z)\n",
    "plt.savefig(os.path.join(models_dir, 'QC_hist.png'))\n"
   ]
  },
  {
   "cell_type": "code",
   "execution_count": 63,
   "metadata": {},
   "outputs": [],
   "source": [
    "temp = pd.DataFrame(pk[1], index = v2_cont_z.index)\n",
    "temp = temp.sort_values(by=[0], ascending = False)"
   ]
  },
  {
   "cell_type": "code",
   "execution_count": 100,
   "metadata": {},
   "outputs": [
    {
     "data": {
      "text/html": [
       "<div>\n",
       "<style scoped>\n",
       "    .dataframe tbody tr th:only-of-type {\n",
       "        vertical-align: middle;\n",
       "    }\n",
       "\n",
       "    .dataframe tbody tr th {\n",
       "        vertical-align: top;\n",
       "    }\n",
       "\n",
       "    .dataframe thead th {\n",
       "        text-align: right;\n",
       "    }\n",
       "</style>\n",
       "<table border=\"1\" class=\"dataframe\">\n",
       "  <thead>\n",
       "    <tr style=\"text-align: right;\">\n",
       "      <th></th>\n",
       "      <th>P01618</th>\n",
       "    </tr>\n",
       "  </thead>\n",
       "  <tbody>\n",
       "    <tr>\n",
       "      <th>rh_S_oc-temp_lat_thickness</th>\n",
       "      <td>2.301796</td>\n",
       "    </tr>\n",
       "    <tr>\n",
       "      <th>rh_S_precentral-inf-part_thickness</th>\n",
       "      <td>1.867125</td>\n",
       "    </tr>\n",
       "    <tr>\n",
       "      <th>lh_S_circular_insula_ant_thickness</th>\n",
       "      <td>1.531620</td>\n",
       "    </tr>\n",
       "    <tr>\n",
       "      <th>rh_Pole_temporal_thickness</th>\n",
       "      <td>1.473296</td>\n",
       "    </tr>\n",
       "    <tr>\n",
       "      <th>Right-Pallidum</th>\n",
       "      <td>1.325519</td>\n",
       "    </tr>\n",
       "    <tr>\n",
       "      <th>...</th>\n",
       "      <td>...</td>\n",
       "    </tr>\n",
       "    <tr>\n",
       "      <th>Left-Inf-Lat-Vent</th>\n",
       "      <td>-1.118734</td>\n",
       "    </tr>\n",
       "    <tr>\n",
       "      <th>Right-Hippocampus</th>\n",
       "      <td>-1.241317</td>\n",
       "    </tr>\n",
       "    <tr>\n",
       "      <th>rh_S_temporal_transverse_thickness</th>\n",
       "      <td>-1.338791</td>\n",
       "    </tr>\n",
       "    <tr>\n",
       "      <th>rh_S_orbital_med-olfact_thickness</th>\n",
       "      <td>-1.575016</td>\n",
       "    </tr>\n",
       "    <tr>\n",
       "      <th>Right-Inf-Lat-Vent</th>\n",
       "      <td>-1.655943</td>\n",
       "    </tr>\n",
       "  </tbody>\n",
       "</table>\n",
       "<p>185 rows × 1 columns</p>\n",
       "</div>"
      ],
      "text/plain": [
       "                                      P01618\n",
       "rh_S_oc-temp_lat_thickness          2.301796\n",
       "rh_S_precentral-inf-part_thickness  1.867125\n",
       "lh_S_circular_insula_ant_thickness  1.531620\n",
       "rh_Pole_temporal_thickness          1.473296\n",
       "Right-Pallidum                      1.325519\n",
       "...                                      ...\n",
       "Left-Inf-Lat-Vent                  -1.118734\n",
       "Right-Hippocampus                  -1.241317\n",
       "rh_S_temporal_transverse_thickness -1.338791\n",
       "rh_S_orbital_med-olfact_thickness  -1.575016\n",
       "Right-Inf-Lat-Vent                 -1.655943\n",
       "\n",
       "[185 rows x 1 columns]"
      ]
     },
     "execution_count": 100,
     "metadata": {},
     "output_type": "execute_result"
    }
   ],
   "source": [
    "pk2 = v2_pat.iloc[np.where(v2_pat.index == 'P01618')[0],col_comp_id].T\n",
    "pk2.sort_values(by='P01618', ascending=False)\n",
    "\n"
   ]
  },
  {
   "cell_type": "code",
   "execution_count": 442,
   "metadata": {},
   "outputs": [
    {
     "data": {
      "text/plain": [
       "(70, 193)"
      ]
     },
     "execution_count": 442,
     "metadata": {},
     "output_type": "execute_result"
    }
   ],
   "source": [
    "v1_cont.shape"
   ]
  },
  {
   "cell_type": "code",
   "execution_count": null,
   "metadata": {},
   "outputs": [],
   "source": []
  }
 ],
 "metadata": {
  "interpreter": {
   "hash": "3951f2f4cd92dfb9d3e6d0b790d47ccf8f4798183357503ed7e741f4d780229a"
  },
  "kernelspec": {
   "display_name": "Python 3.9.7 64-bit ('PCN': conda)",
   "language": "python",
   "name": "python3"
  },
  "language_info": {
   "codemirror_mode": {
    "name": "ipython",
    "version": 3
   },
   "file_extension": ".py",
   "mimetype": "text/x-python",
   "name": "python",
   "nbconvert_exporter": "python",
   "pygments_lexer": "ipython3",
   "version": "3.9.7"
  },
  "orig_nbformat": 4
 },
 "nbformat": 4,
 "nbformat_minor": 2
}
